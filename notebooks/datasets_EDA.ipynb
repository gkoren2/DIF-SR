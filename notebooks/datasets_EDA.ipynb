{
 "cells": [
  {
   "cell_type": "markdown",
   "metadata": {},
   "source": [
    "# Import and setup"
   ]
  },
  {
   "cell_type": "code",
   "execution_count": 1,
   "metadata": {},
   "outputs": [
    {
     "name": "stdout",
     "output_type": "stream",
     "text": [
      "/home/gkoren2/miniconda3/envs/difsr/bin/python\r\n"
     ]
    }
   ],
   "source": [
    "!which python"
   ]
  },
  {
   "cell_type": "code",
   "execution_count": 2,
   "metadata": {},
   "outputs": [
    {
     "data": {
      "text/plain": [
       "['/home/gkoren2/code/git/gkoren2/DIF-SR/notebooks',\n",
       " '/home/gkoren2/code/git/gkoren2/DIF-SR',\n",
       " '/home/gkoren2/miniconda3/envs/difsr/lib/python39.zip',\n",
       " '/home/gkoren2/miniconda3/envs/difsr/lib/python3.9',\n",
       " '/home/gkoren2/miniconda3/envs/difsr/lib/python3.9/lib-dynload',\n",
       " '',\n",
       " '/home/gkoren2/miniconda3/envs/difsr/lib/python3.9/site-packages']"
      ]
     },
     "execution_count": 2,
     "metadata": {},
     "output_type": "execute_result"
    }
   ],
   "source": [
    "import os\n",
    "import sys\n",
    "difsr_root= os.path.dirname(os.getcwd())\n",
    "sys.path.insert(1, difsr_root)\n",
    "sys.path"
   ]
  },
  {
   "cell_type": "code",
   "execution_count": 3,
   "metadata": {},
   "outputs": [],
   "source": [
    "import os \n",
    "import pandas as pd\n",
    "import numpy as np\n",
    "from datetime import datetime\n",
    "from recbole.config import Config\n",
    "from recbole.data import create_dataset\n",
    "from recbole.data.utils import get_dataloader\n",
    "from recbole.utils import init_logger, init_seed, get_model, get_trainer, set_color\n",
    "import matplotlib.pyplot as plt"
   ]
  },
  {
   "cell_type": "code",
   "execution_count": 4,
   "metadata": {},
   "outputs": [
    {
     "data": {
      "text/plain": [
       "['Steam',\n",
       " 'Amazon_Toys_and_Games',\n",
       " 'Amazon_Sports_and_Outdoors',\n",
       " 'yelp',\n",
       " 'Amazon_Beauty']"
      ]
     },
     "execution_count": 4,
     "metadata": {},
     "output_type": "execute_result"
    }
   ],
   "source": [
    "dataset_root = os.path.abspath('../dataset')\n",
    "# os.listdir(dataset_root)\n",
    "os.listdir('../dataset/')"
   ]
  },
  {
   "cell_type": "code",
   "execution_count": 5,
   "metadata": {},
   "outputs": [],
   "source": [
    "from dataclasses import dataclass\n",
    "\n",
    "@dataclass\n",
    "class Arguments:\n",
    "    model:str = 'SASRecD'\n",
    "    dataset:str = 'Amazon_Beauty'\n",
    "    config_files:str = None\n",
    "\n",
    "\n",
    "\n"
   ]
  },
  {
   "cell_type": "markdown",
   "metadata": {},
   "source": [
    "# Amazon Beauty"
   ]
  },
  {
   "cell_type": "code",
   "execution_count": 25,
   "metadata": {},
   "outputs": [
    {
     "data": {
      "text/plain": [
       "['Amazon_Beauty.inter', 'Amazon_Beauty.item']"
      ]
     },
     "execution_count": 25,
     "metadata": {},
     "output_type": "execute_result"
    }
   ],
   "source": [
    "dataset_path=os.path.join(dataset_root,'Amazon_Beauty')\n",
    "os.listdir(dataset_path)"
   ]
  },
  {
   "cell_type": "markdown",
   "metadata": {},
   "source": [
    "## Reading the dataset using recbole "
   ]
  },
  {
   "cell_type": "code",
   "execution_count": 7,
   "metadata": {},
   "outputs": [
    {
     "data": {
      "text/plain": [
       "{'gpu_id': 0,\n",
       " 'use_gpu': True,\n",
       " 'seed': 212,\n",
       " 'state': 'INFO',\n",
       " 'reproducibility': True,\n",
       " 'data_path': '/home/guy/workspace/work/git/gkoren2/DIF-SR/dataset/Amazon_Beauty',\n",
       " 'checkpoint_dir': 'saved',\n",
       " 'show_progress': True,\n",
       " 'save_dataset': False,\n",
       " 'save_dataloaders': False,\n",
       " 'epochs': 200,\n",
       " 'train_batch_size': 1536,\n",
       " 'learner': 'adam',\n",
       " 'learning_rate': 0.0001,\n",
       " 'neg_sampling': None,\n",
       " 'eval_step': 2,\n",
       " 'stopping_step': 10,\n",
       " 'clip_grad_norm': None,\n",
       " 'weight_decay': 0.0,\n",
       " 'multi_gpus': False,\n",
       " 'eval_args': {'split': {'LS': 'valid_and_test'},\n",
       "  'group_by': 'user',\n",
       "  'order': 'TO',\n",
       "  'mode': 'full'},\n",
       " 'repeatable': True,\n",
       " 'metrics': ['Recall', 'NDCG'],\n",
       " 'topk': [3, 5, 10, 20],\n",
       " 'valid_metric': 'Recall@20',\n",
       " 'valid_metric_bigger': True,\n",
       " 'eval_batch_size': 128,\n",
       " 'loss_decimal_place': 4,\n",
       " 'metric_decimal_place': 4,\n",
       " 'n_layers': 4,\n",
       " 'n_heads': 8,\n",
       " 'hidden_size': 256,\n",
       " 'attribute_hidden_size': [64],\n",
       " 'inner_size': 256,\n",
       " 'hidden_dropout_prob': 0.5,\n",
       " 'attn_dropout_prob': 0.3,\n",
       " 'hidden_act': 'gelu',\n",
       " 'layer_norm_eps': 1e-12,\n",
       " 'initializer_range': 0.02,\n",
       " 'selected_features': ['categories'],\n",
       " 'pooling_mode': 'sum',\n",
       " 'loss_type': 'CE',\n",
       " 'weight_sharing': 'not',\n",
       " 'fusion_type': 'gate',\n",
       " 'lamdas': [10],\n",
       " 'attribute_predictor': 'linear',\n",
       " 'field_separator': '\\t',\n",
       " 'seq_separator': ' ',\n",
       " 'USER_ID_FIELD': 'user_id',\n",
       " 'ITEM_ID_FIELD': 'item_id',\n",
       " 'RATING_FIELD': 'rating',\n",
       " 'TIME_FIELD': 'timestamp',\n",
       " 'seq_len': None,\n",
       " 'LABEL_FIELD': 'label',\n",
       " 'threshold': None,\n",
       " 'NEG_PREFIX': 'neg_',\n",
       " 'load_col': {'inter': ['user_id', 'item_id', 'rating', 'timestamp'],\n",
       "  'item': ['item_id',\n",
       "   'title',\n",
       "   'sales_rank',\n",
       "   'price',\n",
       "   'brand',\n",
       "   'categories',\n",
       "   'sales_type']},\n",
       " 'unload_col': None,\n",
       " 'unused_col': None,\n",
       " 'additional_feat_suffix': None,\n",
       " 'rm_dup_inter': None,\n",
       " 'val_interval': None,\n",
       " 'filter_inter_by_user_or_item': True,\n",
       " 'user_inter_num_interval': '[5,inf)',\n",
       " 'item_inter_num_interval': '[5,inf)',\n",
       " 'alias_of_user_id': None,\n",
       " 'alias_of_item_id': None,\n",
       " 'alias_of_entity_id': None,\n",
       " 'alias_of_relation_id': None,\n",
       " 'preload_weight': None,\n",
       " 'normalize_field': None,\n",
       " 'normalize_all': None,\n",
       " 'ITEM_LIST_LENGTH_FIELD': 'item_length',\n",
       " 'LIST_SUFFIX': '_list',\n",
       " 'MAX_ITEM_LIST_LENGTH': 50,\n",
       " 'POSITION_FIELD': 'position_id',\n",
       " 'HEAD_ENTITY_ID_FIELD': 'head_id',\n",
       " 'TAIL_ENTITY_ID_FIELD': 'tail_id',\n",
       " 'RELATION_ID_FIELD': 'relation_id',\n",
       " 'ENTITY_ID_FIELD': 'entity_id',\n",
       " 'benchmark_filename': None,\n",
       " 'MODEL_TYPE': <ModelType.SEQUENTIAL: 2>,\n",
       " 'dataset': 'Amazon_Beauty',\n",
       " 'model': 'SASRecD',\n",
       " 'MODEL_INPUT_TYPE': <InputType.POINTWISE: 1>,\n",
       " 'eval_type': <EvaluatorType.RANKING: 1>,\n",
       " 'device': device(type='cuda'),\n",
       " 'train_neg_sample_args': {'strategy': 'none'},\n",
       " 'eval_neg_sample_args': {'strategy': 'full', 'distribution': 'uniform'}}"
      ]
     },
     "execution_count": 7,
     "metadata": {},
     "output_type": "execute_result"
    }
   ],
   "source": [
    "# reading the dataset through the recbole framework\n",
    "args=Arguments(dataset=\"Amazon_Beauty\",config_files=os.path.join(difsr_root,'configs/Amazon_Beauty_opt.yaml'))\n",
    "config_file_list = args.config_files.strip().split(' ') if args.config_files else None\n",
    "config = Config(model=args.model, dataset=f'{args.dataset}', config_file_list=config_file_list)\n",
    "config.final_config_dict['data_path'] = os.path.join(difsr_root,config.final_config_dict['data_path'])\n",
    "config.final_config_dict"
   ]
  },
  {
   "cell_type": "code",
   "execution_count": 8,
   "metadata": {},
   "outputs": [
    {
     "data": {
      "text/plain": [
       "\u001b[1;35mAmazon_Beauty\u001b[0m\n",
       "\u001b[1;34mThe number of users\u001b[0m: 22364\n",
       "\u001b[1;34mAverage actions of users\u001b[0m: 8.876358270357287\n",
       "\u001b[1;34mThe number of items\u001b[0m: 12102\n",
       "\u001b[1;34mAverage actions of items\u001b[0m: 16.403768283612923\n",
       "\u001b[1;34mThe number of inters\u001b[0m: 198502\n",
       "\u001b[1;34mThe sparsity of the dataset\u001b[0m: 99.92665707018277%\n",
       "\u001b[1;34mRemain Fields\u001b[0m: ['user_id', 'item_id', 'rating', 'timestamp', 'title', 'sales_type', 'sales_rank', 'categories', 'price', 'brand']"
      ]
     },
     "execution_count": 8,
     "metadata": {},
     "output_type": "execute_result"
    }
   ],
   "source": [
    "dataset = create_dataset(config)\n",
    "dataset"
   ]
  },
  {
   "cell_type": "code",
   "execution_count": 9,
   "metadata": {},
   "outputs": [
    {
     "data": {
      "text/html": [
       "<div>\n",
       "<style scoped>\n",
       "    .dataframe tbody tr th:only-of-type {\n",
       "        vertical-align: middle;\n",
       "    }\n",
       "\n",
       "    .dataframe tbody tr th {\n",
       "        vertical-align: top;\n",
       "    }\n",
       "\n",
       "    .dataframe thead th {\n",
       "        text-align: right;\n",
       "    }\n",
       "</style>\n",
       "<table border=\"1\" class=\"dataframe\">\n",
       "  <thead>\n",
       "    <tr style=\"text-align: right;\">\n",
       "      <th></th>\n",
       "      <th>item_id</th>\n",
       "      <th>title</th>\n",
       "      <th>sales_type</th>\n",
       "      <th>sales_rank</th>\n",
       "      <th>categories</th>\n",
       "      <th>price</th>\n",
       "      <th>brand</th>\n",
       "    </tr>\n",
       "  </thead>\n",
       "  <tbody>\n",
       "    <tr>\n",
       "      <th>0</th>\n",
       "      <td>0</td>\n",
       "      <td>0.0</td>\n",
       "      <td>0.0</td>\n",
       "      <td>277296.568007</td>\n",
       "      <td>[]</td>\n",
       "      <td>17.005026</td>\n",
       "      <td>0.0</td>\n",
       "    </tr>\n",
       "    <tr>\n",
       "      <th>1</th>\n",
       "      <td>1</td>\n",
       "      <td>1.0</td>\n",
       "      <td>1.0</td>\n",
       "      <td>10486.000000</td>\n",
       "      <td>[1, 2, 3, 4, 5, 6]</td>\n",
       "      <td>5.040000</td>\n",
       "      <td>1.0</td>\n",
       "    </tr>\n",
       "    <tr>\n",
       "      <th>2</th>\n",
       "      <td>2</td>\n",
       "      <td>2.0</td>\n",
       "      <td>1.0</td>\n",
       "      <td>52254.000000</td>\n",
       "      <td>[1, 7, 8, 9, 10, 11, 12, 5, 13]</td>\n",
       "      <td>19.990000</td>\n",
       "      <td>2.0</td>\n",
       "    </tr>\n",
       "    <tr>\n",
       "      <th>3</th>\n",
       "      <td>3</td>\n",
       "      <td>3.0</td>\n",
       "      <td>1.0</td>\n",
       "      <td>78916.000000</td>\n",
       "      <td>[1, 14, 15, 16, 17, 18]</td>\n",
       "      <td>65.860000</td>\n",
       "      <td>3.0</td>\n",
       "    </tr>\n",
       "    <tr>\n",
       "      <th>4</th>\n",
       "      <td>4</td>\n",
       "      <td>4.0</td>\n",
       "      <td>1.0</td>\n",
       "      <td>764.000000</td>\n",
       "      <td>[1, 14, 15, 16, 17, 19]</td>\n",
       "      <td>52.330000</td>\n",
       "      <td>4.0</td>\n",
       "    </tr>\n",
       "  </tbody>\n",
       "</table>\n",
       "</div>"
      ],
      "text/plain": [
       "   item_id  title  sales_type     sales_rank                       categories  \\\n",
       "0        0    0.0         0.0  277296.568007                               []   \n",
       "1        1    1.0         1.0   10486.000000               [1, 2, 3, 4, 5, 6]   \n",
       "2        2    2.0         1.0   52254.000000  [1, 7, 8, 9, 10, 11, 12, 5, 13]   \n",
       "3        3    3.0         1.0   78916.000000          [1, 14, 15, 16, 17, 18]   \n",
       "4        4    4.0         1.0     764.000000          [1, 14, 15, 16, 17, 19]   \n",
       "\n",
       "       price  brand  \n",
       "0  17.005026    0.0  \n",
       "1   5.040000    1.0  \n",
       "2  19.990000    2.0  \n",
       "3  65.860000    3.0  \n",
       "4  52.330000    4.0  "
      ]
     },
     "execution_count": 9,
     "metadata": {},
     "output_type": "execute_result"
    }
   ],
   "source": [
    "dataset.item_feat.head()"
   ]
  },
  {
   "cell_type": "code",
   "execution_count": 38,
   "metadata": {},
   "outputs": [
    {
     "data": {
      "text/plain": [
       "0.0       2099\n",
       "40.0       291\n",
       "124.0      203\n",
       "10.0       191\n",
       "41.0       159\n",
       "          ... \n",
       "1048.0       1\n",
       "1045.0       1\n",
       "1043.0       1\n",
       "1039.0       1\n",
       "2076.0       1\n",
       "Name: brand, Length: 2077, dtype: int64"
      ]
     },
     "execution_count": 38,
     "metadata": {},
     "output_type": "execute_result"
    }
   ],
   "source": [
    "dataset.item_feat['brand'].value_counts()"
   ]
  },
  {
   "cell_type": "code",
   "execution_count": 37,
   "metadata": {},
   "outputs": [
    {
     "data": {
      "text/plain": [
       "7     2178\n",
       "6     2149\n",
       "4     2120\n",
       "5     1801\n",
       "8     1295\n",
       "9      876\n",
       "11     681\n",
       "10     610\n",
       "12     144\n",
       "14     109\n",
       "3       82\n",
       "2       29\n",
       "13      27\n",
       "0        1\n",
       "Name: categories, dtype: int64"
      ]
     },
     "execution_count": 37,
     "metadata": {},
     "output_type": "execute_result"
    }
   ],
   "source": [
    "# check the distribution of the number of categories per item\n",
    "dataset.item_feat['categories'].apply(lambda x:len(x)).value_counts()\n",
    "\n"
   ]
  },
  {
   "cell_type": "code",
   "execution_count": 39,
   "metadata": {},
   "outputs": [
    {
     "data": {
      "text/plain": [
       "1.0     10169\n",
       "2.0      1307\n",
       "0.0       287\n",
       "5.0        77\n",
       "3.0        71\n",
       "4.0        32\n",
       "13.0       30\n",
       "7.0        27\n",
       "8.0        18\n",
       "12.0       16\n",
       "17.0       15\n",
       "6.0        12\n",
       "10.0       11\n",
       "16.0       10\n",
       "15.0        8\n",
       "11.0        5\n",
       "9.0         3\n",
       "14.0        1\n",
       "18.0        1\n",
       "19.0        1\n",
       "20.0        1\n",
       "Name: sales_type, dtype: int64"
      ]
     },
     "execution_count": 39,
     "metadata": {},
     "output_type": "execute_result"
    }
   ],
   "source": [
    "dataset.item_feat['sales_type'].value_counts()"
   ]
  },
  {
   "cell_type": "code",
   "execution_count": 27,
   "metadata": {},
   "outputs": [
    {
     "data": {
      "text/plain": [
       "277296.568007    287\n",
       "2123.000000        3\n",
       "120451.000000      3\n",
       "14119.000000       2\n",
       "21570.000000       2\n",
       "                ... \n",
       "234978.000000      1\n",
       "983834.000000      1\n",
       "230650.000000      1\n",
       "195874.000000      1\n",
       "136798.000000      1\n",
       "Name: sales_rank, Length: 11708, dtype: int64"
      ]
     },
     "execution_count": 27,
     "metadata": {},
     "output_type": "execute_result"
    }
   ],
   "source": [
    "dataset.item_feat['sales_rank'].value_counts()"
   ]
  },
  {
   "cell_type": "code",
   "execution_count": 40,
   "metadata": {},
   "outputs": [
    {
     "data": {
      "text/plain": [
       "0.0        8\n",
       "11242.0    3\n",
       "5300.0     2\n",
       "10588.0    2\n",
       "820.0      2\n",
       "          ..\n",
       "4042.0     1\n",
       "4035.0     1\n",
       "4045.0     1\n",
       "4039.0     1\n",
       "12066.0    1\n",
       "Name: title, Length: 12067, dtype: int64"
      ]
     },
     "execution_count": 40,
     "metadata": {},
     "output_type": "execute_result"
    }
   ],
   "source": [
    "dataset.item_feat['title'].value_counts()"
   ]
  },
  {
   "cell_type": "markdown",
   "metadata": {},
   "source": [
    "## read item data"
   ]
  },
  {
   "cell_type": "code",
   "execution_count": 26,
   "metadata": {},
   "outputs": [
    {
     "data": {
      "text/html": [
       "<div>\n",
       "<style scoped>\n",
       "    .dataframe tbody tr th:only-of-type {\n",
       "        vertical-align: middle;\n",
       "    }\n",
       "\n",
       "    .dataframe tbody tr th {\n",
       "        vertical-align: top;\n",
       "    }\n",
       "\n",
       "    .dataframe thead th {\n",
       "        text-align: right;\n",
       "    }\n",
       "</style>\n",
       "<table border=\"1\" class=\"dataframe\">\n",
       "  <thead>\n",
       "    <tr style=\"text-align: right;\">\n",
       "      <th></th>\n",
       "      <th>item_id:token</th>\n",
       "      <th>title:token</th>\n",
       "      <th>sales_type:token</th>\n",
       "      <th>sales_rank:float</th>\n",
       "      <th>categories:token_seq</th>\n",
       "      <th>price:float</th>\n",
       "      <th>brand:token</th>\n",
       "    </tr>\n",
       "  </thead>\n",
       "  <tbody>\n",
       "    <tr>\n",
       "      <th>0</th>\n",
       "      <td>0205616461</td>\n",
       "      <td>Bio-Active Anti-Aging Serum (Firming Ultra-Hyd...</td>\n",
       "      <td>Health &amp; Personal Care</td>\n",
       "      <td>461765.0</td>\n",
       "      <td>'Beauty', 'Skin Care', 'Face', 'Creams &amp; Moist...</td>\n",
       "      <td>NaN</td>\n",
       "      <td>NaN</td>\n",
       "    </tr>\n",
       "    <tr>\n",
       "      <th>1</th>\n",
       "      <td>0558925278</td>\n",
       "      <td>Eco Friendly Ecotools Quality Natural Bamboo C...</td>\n",
       "      <td>Beauty</td>\n",
       "      <td>402875.0</td>\n",
       "      <td>'Beauty', 'Tools &amp; Accessories', 'Makeup Brush...</td>\n",
       "      <td>NaN</td>\n",
       "      <td>NaN</td>\n",
       "    </tr>\n",
       "    <tr>\n",
       "      <th>2</th>\n",
       "      <td>0733001998</td>\n",
       "      <td>Mastiha Body Lotion</td>\n",
       "      <td>Beauty</td>\n",
       "      <td>540255.0</td>\n",
       "      <td>'Beauty', 'Skin Care', 'Body', 'Moisturizers',...</td>\n",
       "      <td>NaN</td>\n",
       "      <td>NaN</td>\n",
       "    </tr>\n",
       "    <tr>\n",
       "      <th>3</th>\n",
       "      <td>0737104473</td>\n",
       "      <td>Hello Kitty Lustre Lipstick (See sellers comme...</td>\n",
       "      <td>Beauty</td>\n",
       "      <td>931125.0</td>\n",
       "      <td>'Beauty', 'Makeup', 'Lips', 'Lipstick'</td>\n",
       "      <td>NaN</td>\n",
       "      <td>NaN</td>\n",
       "    </tr>\n",
       "    <tr>\n",
       "      <th>4</th>\n",
       "      <td>0762451459</td>\n",
       "      <td>Stephanie Johnson Mermaid Round Snap Mirror</td>\n",
       "      <td>NaN</td>\n",
       "      <td>NaN</td>\n",
       "      <td>'Beauty', 'Tools &amp; Accessories', 'Mirrors', 'M...</td>\n",
       "      <td>19.98</td>\n",
       "      <td>NaN</td>\n",
       "    </tr>\n",
       "  </tbody>\n",
       "</table>\n",
       "</div>"
      ],
      "text/plain": [
       "  item_id:token                                        title:token  \\\n",
       "0    0205616461  Bio-Active Anti-Aging Serum (Firming Ultra-Hyd...   \n",
       "1    0558925278  Eco Friendly Ecotools Quality Natural Bamboo C...   \n",
       "2    0733001998                                Mastiha Body Lotion   \n",
       "3    0737104473  Hello Kitty Lustre Lipstick (See sellers comme...   \n",
       "4    0762451459        Stephanie Johnson Mermaid Round Snap Mirror   \n",
       "\n",
       "         sales_type:token  sales_rank:float  \\\n",
       "0  Health & Personal Care          461765.0   \n",
       "1                  Beauty          402875.0   \n",
       "2                  Beauty          540255.0   \n",
       "3                  Beauty          931125.0   \n",
       "4                     NaN               NaN   \n",
       "\n",
       "                                categories:token_seq  price:float brand:token  \n",
       "0  'Beauty', 'Skin Care', 'Face', 'Creams & Moist...          NaN         NaN  \n",
       "1  'Beauty', 'Tools & Accessories', 'Makeup Brush...          NaN         NaN  \n",
       "2  'Beauty', 'Skin Care', 'Body', 'Moisturizers',...          NaN         NaN  \n",
       "3             'Beauty', 'Makeup', 'Lips', 'Lipstick'          NaN         NaN  \n",
       "4  'Beauty', 'Tools & Accessories', 'Mirrors', 'M...        19.98         NaN  "
      ]
     },
     "execution_count": 26,
     "metadata": {},
     "output_type": "execute_result"
    }
   ],
   "source": [
    "bdf=pd.read_csv(os.path.join(dataset_path,'Amazon_Beauty.item'),sep='\\t')\n",
    "bdf.head()"
   ]
  },
  {
   "cell_type": "code",
   "execution_count": 27,
   "metadata": {},
   "outputs": [
    {
     "data": {
      "text/plain": [
       "item_id:token           1.000000\n",
       "title:token             0.998287\n",
       "sales_type:token        0.979865\n",
       "sales_rank:float        0.979865\n",
       "categories:token_seq    1.000000\n",
       "price:float             0.732743\n",
       "brand:token             0.490112\n",
       "dtype: float64"
      ]
     },
     "execution_count": 27,
     "metadata": {},
     "output_type": "execute_result"
    }
   ],
   "source": [
    "# check how many non-Nan values are there in each column\n",
    "bdf.count()/len(bdf)\n"
   ]
  },
  {
   "cell_type": "markdown",
   "metadata": {},
   "source": [
    "it looks liket the only feature that exist for each item is categories (although there might be an empty string, right?)"
   ]
  },
  {
   "cell_type": "code",
   "execution_count": 29,
   "metadata": {},
   "outputs": [
    {
     "data": {
      "text/plain": [
       "Beauty                       215131\n",
       "Health & Personal Care        30479\n",
       "Clothing                       2448\n",
       "Home &amp; Kitchen             1421\n",
       "Sports &amp; Outdoors           683\n",
       "Toys & Games                    642\n",
       "Music                           568\n",
       "Shoes                           551\n",
       "Jewelry                         534\n",
       "Industrial & Scientific         399\n",
       "Arts, Crafts & Sewing           272\n",
       "Pet Supplies                    268\n",
       "Kitchen & Dining                202\n",
       "Electronics                     137\n",
       "Patio, Lawn & Garden            100\n",
       "Movies & TV                      52\n",
       "Grocery & Gourmet Food           23\n",
       "Baby                             17\n",
       "Watches                          13\n",
       "Automotive                        9\n",
       "Home Improvement                  9\n",
       "Camera &amp; Photo                8\n",
       "Musical Instruments               6\n",
       "Software                          5\n",
       "Cell Phones & Accessories         3\n",
       "Office Products                   2\n",
       "Magazines                         1\n",
       "Books                             1\n",
       "Computers & Accessories           1\n",
       "Name: sales_type:token, dtype: int64"
      ]
     },
     "execution_count": 29,
     "metadata": {},
     "output_type": "execute_result"
    }
   ],
   "source": [
    "# check how many Nans in brand:token\n",
    "bdf['sales_type:token'].value_counts()"
   ]
  },
  {
   "cell_type": "markdown",
   "metadata": {},
   "source": [
    "# Amazon Toys"
   ]
  },
  {
   "cell_type": "code",
   "execution_count": 30,
   "metadata": {},
   "outputs": [
    {
     "data": {
      "text/plain": [
       "['Amazon_Toys_and_Games.inter', 'Amazon_Toys_and_Games.item']"
      ]
     },
     "execution_count": 30,
     "metadata": {},
     "output_type": "execute_result"
    }
   ],
   "source": [
    "dataset_path=os.path.join(dataset_root,'Amazon_Toys_and_Games')\n",
    "os.listdir(dataset_path)"
   ]
  },
  {
   "cell_type": "markdown",
   "metadata": {},
   "source": [
    "## Reading the dataset using recbole "
   ]
  },
  {
   "cell_type": "code",
   "execution_count": 8,
   "metadata": {},
   "outputs": [
    {
     "data": {
      "text/plain": [
       "{'gpu_id': 0,\n",
       " 'use_gpu': True,\n",
       " 'seed': 212,\n",
       " 'state': 'INFO',\n",
       " 'reproducibility': True,\n",
       " 'data_path': '/home/gkoren2/code/git/gkoren2/DIF-SR/dataset/Amazon_Toys_and_Games',\n",
       " 'checkpoint_dir': 'saved',\n",
       " 'show_progress': True,\n",
       " 'save_dataset': False,\n",
       " 'save_dataloaders': False,\n",
       " 'epochs': 200,\n",
       " 'train_batch_size': 2048,\n",
       " 'learner': 'adam',\n",
       " 'learning_rate': 0.0001,\n",
       " 'neg_sampling': None,\n",
       " 'eval_step': 2,\n",
       " 'stopping_step': 10,\n",
       " 'clip_grad_norm': None,\n",
       " 'weight_decay': 0.0,\n",
       " 'multi_gpus': False,\n",
       " 'eval_args': {'split': {'LS': 'valid_and_test'},\n",
       "  'group_by': 'user',\n",
       "  'order': 'TO',\n",
       "  'mode': 'full'},\n",
       " 'repeatable': True,\n",
       " 'metrics': ['Recall', 'NDCG'],\n",
       " 'topk': [3, 5, 10, 20],\n",
       " 'valid_metric': 'Recall@20',\n",
       " 'valid_metric_bigger': True,\n",
       " 'eval_batch_size': 256,\n",
       " 'loss_decimal_place': 4,\n",
       " 'metric_decimal_place': 4,\n",
       " 'n_layers': 3,\n",
       " 'n_heads': 4,\n",
       " 'hidden_size': 256,\n",
       " 'attribute_hidden_size': [64],\n",
       " 'inner_size': 256,\n",
       " 'hidden_dropout_prob': 0.5,\n",
       " 'attn_dropout_prob': 0.3,\n",
       " 'hidden_act': 'gelu',\n",
       " 'layer_norm_eps': 1e-12,\n",
       " 'initializer_range': 0.02,\n",
       " 'selected_features': ['categories'],\n",
       " 'pooling_mode': 'sum',\n",
       " 'loss_type': 'CE',\n",
       " 'weight_sharing': 'not',\n",
       " 'fusion_type': 'gate',\n",
       " 'lamdas': [5],\n",
       " 'attribute_predictor': 'linear',\n",
       " 'field_separator': '\\t',\n",
       " 'seq_separator': ' ',\n",
       " 'USER_ID_FIELD': 'user_id',\n",
       " 'ITEM_ID_FIELD': 'item_id',\n",
       " 'RATING_FIELD': 'rating',\n",
       " 'TIME_FIELD': 'timestamp',\n",
       " 'seq_len': None,\n",
       " 'LABEL_FIELD': 'label',\n",
       " 'threshold': None,\n",
       " 'NEG_PREFIX': 'neg_',\n",
       " 'load_col': {'inter': ['user_id', 'item_id', 'rating', 'timestamp'],\n",
       "  'item': ['item_id',\n",
       "   'title',\n",
       "   'sales_rank',\n",
       "   'price',\n",
       "   'brand',\n",
       "   'categories',\n",
       "   'sales_type']},\n",
       " 'unload_col': None,\n",
       " 'unused_col': None,\n",
       " 'additional_feat_suffix': None,\n",
       " 'rm_dup_inter': None,\n",
       " 'val_interval': None,\n",
       " 'filter_inter_by_user_or_item': True,\n",
       " 'user_inter_num_interval': '[5,inf)',\n",
       " 'item_inter_num_interval': '[5,inf)',\n",
       " 'alias_of_user_id': None,\n",
       " 'alias_of_item_id': None,\n",
       " 'alias_of_entity_id': None,\n",
       " 'alias_of_relation_id': None,\n",
       " 'preload_weight': None,\n",
       " 'normalize_field': None,\n",
       " 'normalize_all': None,\n",
       " 'ITEM_LIST_LENGTH_FIELD': 'item_length',\n",
       " 'LIST_SUFFIX': '_list',\n",
       " 'MAX_ITEM_LIST_LENGTH': 50,\n",
       " 'POSITION_FIELD': 'position_id',\n",
       " 'HEAD_ENTITY_ID_FIELD': 'head_id',\n",
       " 'TAIL_ENTITY_ID_FIELD': 'tail_id',\n",
       " 'RELATION_ID_FIELD': 'relation_id',\n",
       " 'ENTITY_ID_FIELD': 'entity_id',\n",
       " 'benchmark_filename': None,\n",
       " 'MODEL_TYPE': <ModelType.SEQUENTIAL: 2>,\n",
       " 'dataset': 'Amazon_Toys_and_Games',\n",
       " 'model': 'SASRecD',\n",
       " 'MODEL_INPUT_TYPE': <InputType.POINTWISE: 1>,\n",
       " 'eval_type': <EvaluatorType.RANKING: 1>,\n",
       " 'device': device(type='cuda'),\n",
       " 'train_neg_sample_args': {'strategy': 'none'},\n",
       " 'eval_neg_sample_args': {'strategy': 'full', 'distribution': 'uniform'}}"
      ]
     },
     "execution_count": 8,
     "metadata": {},
     "output_type": "execute_result"
    }
   ],
   "source": [
    "# reading the dataset through the recbole framework\n",
    "args=Arguments(dataset=\"Amazon_Toys_and_Games\",config_files=os.path.join(difsr_root,'configs/orig/Amazon_Toys_and_Games.yaml'))\n",
    "config_file_list = args.config_files.strip().split(' ') if args.config_files else None\n",
    "config = Config(model=args.model, dataset=f'{args.dataset}', config_file_list=config_file_list)\n",
    "config.final_config_dict['data_path'] = os.path.join(difsr_root,config.final_config_dict['data_path'])\n",
    "config.final_config_dict"
   ]
  },
  {
   "cell_type": "code",
   "execution_count": 11,
   "metadata": {},
   "outputs": [
    {
     "data": {
      "text/plain": [
       "\u001b[1;35mAmazon_Toys_and_Games\u001b[0m\n",
       "\u001b[1;34mThe number of users\u001b[0m: 19413\n",
       "\u001b[1;34mAverage actions of users\u001b[0m: 8.633680197815783\n",
       "\u001b[1;34mThe number of items\u001b[0m: 11925\n",
       "\u001b[1;34mAverage actions of items\u001b[0m: 14.055434417980543\n",
       "\u001b[1;34mThe number of inters\u001b[0m: 167597\n",
       "\u001b[1;34mThe sparsity of the dataset\u001b[0m: 99.92760389550713%\n",
       "\u001b[1;34mRemain Fields\u001b[0m: ['user_id', 'item_id', 'rating', 'timestamp', 'title', 'price', 'sales_type', 'sales_rank', 'brand', 'categories']"
      ]
     },
     "execution_count": 11,
     "metadata": {},
     "output_type": "execute_result"
    }
   ],
   "source": [
    "dataset = create_dataset(config)\n",
    "dataset"
   ]
  },
  {
   "cell_type": "code",
   "execution_count": 12,
   "metadata": {},
   "outputs": [
    {
     "data": {
      "text/html": [
       "<div>\n",
       "<style scoped>\n",
       "    .dataframe tbody tr th:only-of-type {\n",
       "        vertical-align: middle;\n",
       "    }\n",
       "\n",
       "    .dataframe tbody tr th {\n",
       "        vertical-align: top;\n",
       "    }\n",
       "\n",
       "    .dataframe thead th {\n",
       "        text-align: right;\n",
       "    }\n",
       "</style>\n",
       "<table border=\"1\" class=\"dataframe\">\n",
       "  <thead>\n",
       "    <tr style=\"text-align: right;\">\n",
       "      <th></th>\n",
       "      <th>item_id</th>\n",
       "      <th>title</th>\n",
       "      <th>price</th>\n",
       "      <th>sales_type</th>\n",
       "      <th>sales_rank</th>\n",
       "      <th>brand</th>\n",
       "      <th>categories</th>\n",
       "    </tr>\n",
       "  </thead>\n",
       "  <tbody>\n",
       "    <tr>\n",
       "      <th>0</th>\n",
       "      <td>0</td>\n",
       "      <td>0.0</td>\n",
       "      <td>30.077028</td>\n",
       "      <td>0.0</td>\n",
       "      <td>369185.891589</td>\n",
       "      <td>0.0</td>\n",
       "      <td>[]</td>\n",
       "    </tr>\n",
       "    <tr>\n",
       "      <th>1</th>\n",
       "      <td>1</td>\n",
       "      <td>1.0</td>\n",
       "      <td>16.190000</td>\n",
       "      <td>0.0</td>\n",
       "      <td>369185.891589</td>\n",
       "      <td>1.0</td>\n",
       "      <td>[1, 2, 3, 4, 5, 6, 7, 2, 8, 5, 9, 2, 10, 11]</td>\n",
       "    </tr>\n",
       "    <tr>\n",
       "      <th>2</th>\n",
       "      <td>2</td>\n",
       "      <td>2.0</td>\n",
       "      <td>1.440000</td>\n",
       "      <td>1.0</td>\n",
       "      <td>1009.000000</td>\n",
       "      <td>2.0</td>\n",
       "      <td>[1, 2, 3, 12, 2, 13, 14, 2, 15, 16, 14, 2, 17,...</td>\n",
       "    </tr>\n",
       "    <tr>\n",
       "      <th>3</th>\n",
       "      <td>3</td>\n",
       "      <td>3.0</td>\n",
       "      <td>11.130000</td>\n",
       "      <td>1.0</td>\n",
       "      <td>1462.000000</td>\n",
       "      <td>3.0</td>\n",
       "      <td>[1, 2, 3, 19, 2, 20, 21, 22, 23, 2, 24]</td>\n",
       "    </tr>\n",
       "    <tr>\n",
       "      <th>4</th>\n",
       "      <td>4</td>\n",
       "      <td>4.0</td>\n",
       "      <td>16.990000</td>\n",
       "      <td>2.0</td>\n",
       "      <td>27977.000000</td>\n",
       "      <td>0.0</td>\n",
       "      <td>[1, 2, 3, 25, 26, 27, 28, 29, 2, 30, 31]</td>\n",
       "    </tr>\n",
       "  </tbody>\n",
       "</table>\n",
       "</div>"
      ],
      "text/plain": [
       "   item_id  title      price  sales_type     sales_rank  brand  \\\n",
       "0        0    0.0  30.077028         0.0  369185.891589    0.0   \n",
       "1        1    1.0  16.190000         0.0  369185.891589    1.0   \n",
       "2        2    2.0   1.440000         1.0    1009.000000    2.0   \n",
       "3        3    3.0  11.130000         1.0    1462.000000    3.0   \n",
       "4        4    4.0  16.990000         2.0   27977.000000    0.0   \n",
       "\n",
       "                                          categories  \n",
       "0                                                 []  \n",
       "1       [1, 2, 3, 4, 5, 6, 7, 2, 8, 5, 9, 2, 10, 11]  \n",
       "2  [1, 2, 3, 12, 2, 13, 14, 2, 15, 16, 14, 2, 17,...  \n",
       "3            [1, 2, 3, 19, 2, 20, 21, 22, 23, 2, 24]  \n",
       "4           [1, 2, 3, 25, 26, 27, 28, 29, 2, 30, 31]  "
      ]
     },
     "execution_count": 12,
     "metadata": {},
     "output_type": "execute_result"
    }
   ],
   "source": [
    "dataset.item_feat.head()"
   ]
  },
  {
   "cell_type": "code",
   "execution_count": 15,
   "metadata": {},
   "outputs": [
    {
     "data": {
      "text/plain": [
       "0.0       1726\n",
       "98.0       663\n",
       "32.0       640\n",
       "108.0      561\n",
       "23.0       555\n",
       "          ... \n",
       "676.0        1\n",
       "677.0        1\n",
       "679.0        1\n",
       "680.0        1\n",
       "1312.0       1\n",
       "Name: brand, Length: 1313, dtype: int64"
      ]
     },
     "execution_count": 15,
     "metadata": {},
     "output_type": "execute_result"
    }
   ],
   "source": [
    "dataset.item_feat['brand'].value_counts()"
   ]
  },
  {
   "cell_type": "markdown",
   "metadata": {},
   "source": [
    "## Read item data"
   ]
  },
  {
   "cell_type": "code",
   "execution_count": 31,
   "metadata": {},
   "outputs": [
    {
     "data": {
      "text/html": [
       "<div>\n",
       "<style scoped>\n",
       "    .dataframe tbody tr th:only-of-type {\n",
       "        vertical-align: middle;\n",
       "    }\n",
       "\n",
       "    .dataframe tbody tr th {\n",
       "        vertical-align: top;\n",
       "    }\n",
       "\n",
       "    .dataframe thead th {\n",
       "        text-align: right;\n",
       "    }\n",
       "</style>\n",
       "<table border=\"1\" class=\"dataframe\">\n",
       "  <thead>\n",
       "    <tr style=\"text-align: right;\">\n",
       "      <th></th>\n",
       "      <th>item_id:token</th>\n",
       "      <th>title:token</th>\n",
       "      <th>price:float</th>\n",
       "      <th>sales_type:token</th>\n",
       "      <th>sales_rank:float</th>\n",
       "      <th>brand:token</th>\n",
       "      <th>categories:token_seq</th>\n",
       "    </tr>\n",
       "  </thead>\n",
       "  <tbody>\n",
       "    <tr>\n",
       "      <th>0</th>\n",
       "      <td>0000191639</td>\n",
       "      <td>Dr. Suess 19163 Dr. Seuss Puzzle 3 Pack Bundle</td>\n",
       "      <td>37.12</td>\n",
       "      <td>Toys &amp; Games</td>\n",
       "      <td>612379.0</td>\n",
       "      <td>Dr. Seuss</td>\n",
       "      <td>'Toys &amp; Games', 'Puzzles', 'Jigsaw Puzzles'</td>\n",
       "    </tr>\n",
       "    <tr>\n",
       "      <th>1</th>\n",
       "      <td>0005069491</td>\n",
       "      <td>Nursery Rhymes Felt Book</td>\n",
       "      <td>NaN</td>\n",
       "      <td>Toys &amp; Games</td>\n",
       "      <td>576683.0</td>\n",
       "      <td>NaN</td>\n",
       "      <td>'Toys &amp; Games'</td>\n",
       "    </tr>\n",
       "    <tr>\n",
       "      <th>2</th>\n",
       "      <td>0076561046</td>\n",
       "      <td>Fraction Decimal Percent Card Deck</td>\n",
       "      <td>NaN</td>\n",
       "      <td>Toys &amp; Games</td>\n",
       "      <td>564211.0</td>\n",
       "      <td>NaN</td>\n",
       "      <td>'Toys &amp; Games', 'Flash Cards', 'Learning &amp; Edu...</td>\n",
       "    </tr>\n",
       "    <tr>\n",
       "      <th>3</th>\n",
       "      <td>0131358936</td>\n",
       "      <td>NaN</td>\n",
       "      <td>36.22</td>\n",
       "      <td>Software</td>\n",
       "      <td>8080.0</td>\n",
       "      <td>NaN</td>\n",
       "      <td>'Toys &amp; Games', 'Mathematics &amp; Counting', 'Lea...</td>\n",
       "    </tr>\n",
       "    <tr>\n",
       "      <th>4</th>\n",
       "      <td>0133642984</td>\n",
       "      <td>Algebra 2 California Teacher Center</td>\n",
       "      <td>731.93</td>\n",
       "      <td>Toys &amp; Games</td>\n",
       "      <td>1150291.0</td>\n",
       "      <td>Prentice Hall</td>\n",
       "      <td>'Toys &amp; Games', 'Mathematics &amp; Counting', 'Lea...</td>\n",
       "    </tr>\n",
       "  </tbody>\n",
       "</table>\n",
       "</div>"
      ],
      "text/plain": [
       "  item_id:token                                     title:token  price:float  \\\n",
       "0    0000191639  Dr. Suess 19163 Dr. Seuss Puzzle 3 Pack Bundle        37.12   \n",
       "1    0005069491                        Nursery Rhymes Felt Book          NaN   \n",
       "2    0076561046              Fraction Decimal Percent Card Deck          NaN   \n",
       "3    0131358936                                             NaN        36.22   \n",
       "4    0133642984             Algebra 2 California Teacher Center       731.93   \n",
       "\n",
       "  sales_type:token  sales_rank:float    brand:token  \\\n",
       "0     Toys & Games          612379.0      Dr. Seuss   \n",
       "1     Toys & Games          576683.0            NaN   \n",
       "2     Toys & Games          564211.0            NaN   \n",
       "3         Software            8080.0            NaN   \n",
       "4     Toys & Games         1150291.0  Prentice Hall   \n",
       "\n",
       "                                categories:token_seq  \n",
       "0        'Toys & Games', 'Puzzles', 'Jigsaw Puzzles'  \n",
       "1                                     'Toys & Games'  \n",
       "2  'Toys & Games', 'Flash Cards', 'Learning & Edu...  \n",
       "3  'Toys & Games', 'Mathematics & Counting', 'Lea...  \n",
       "4  'Toys & Games', 'Mathematics & Counting', 'Lea...  "
      ]
     },
     "execution_count": 31,
     "metadata": {},
     "output_type": "execute_result"
    }
   ],
   "source": [
    "tdf=pd.read_csv(os.path.join(dataset_path,'Amazon_Toys_and_Games.item'),sep='\\t')\n",
    "tdf.head()"
   ]
  },
  {
   "cell_type": "code",
   "execution_count": 32,
   "metadata": {},
   "outputs": [
    {
     "data": {
      "text/plain": [
       "item_id:token           1.000000\n",
       "title:token             0.997328\n",
       "price:float             0.722140\n",
       "sales_type:token        0.973571\n",
       "sales_rank:float        0.973571\n",
       "brand:token             0.543758\n",
       "categories:token_seq    1.000000\n",
       "dtype: float64"
      ]
     },
     "execution_count": 32,
     "metadata": {},
     "output_type": "execute_result"
    }
   ],
   "source": [
    "# check how many non-Nan values are there in each column\n",
    "tdf.count()/len(tdf)"
   ]
  },
  {
   "cell_type": "code",
   "execution_count": 33,
   "metadata": {},
   "outputs": [
    {
     "data": {
      "text/plain": [
       "Toys & Games                 306930\n",
       "Sports &amp; Outdoors          6434\n",
       "Home &amp; Kitchen             2973\n",
       "Clothing                       1689\n",
       "Arts, Crafts & Sewing          1677\n",
       "Industrial & Scientific        1561\n",
       "Kitchen & Dining               1452\n",
       "Patio, Lawn & Garden            948\n",
       "Health & Personal Care          931\n",
       "Musical Instruments             639\n",
       "Video Games                     314\n",
       "Jewelry                         289\n",
       "Electronics                     258\n",
       "Pet Supplies                    253\n",
       "Beauty                          208\n",
       "Software                        198\n",
       "Camera &amp; Photo              180\n",
       "Shoes                            92\n",
       "Cell Phones & Accessories        49\n",
       "Watches                          39\n",
       "Office Products                  27\n",
       "Baby                             17\n",
       "Computers & Accessories          15\n",
       "Home Improvement                  9\n",
       "Automotive                        4\n",
       "Movies & TV                       2\n",
       "Grocery & Gourmet Food            1\n",
       "Books                             1\n",
       "Name: sales_type:token, dtype: int64"
      ]
     },
     "execution_count": 33,
     "metadata": {},
     "output_type": "execute_result"
    }
   ],
   "source": [
    "tdf['sales_type:token'].value_counts()"
   ]
  },
  {
   "cell_type": "markdown",
   "metadata": {},
   "source": [
    "# Amazon Sports"
   ]
  },
  {
   "cell_type": "code",
   "execution_count": 34,
   "metadata": {},
   "outputs": [
    {
     "data": {
      "text/plain": [
       "['Amazon_Sports_and_Outdoors.item', 'Amazon_Sports_and_Outdoors.inter']"
      ]
     },
     "execution_count": 34,
     "metadata": {},
     "output_type": "execute_result"
    }
   ],
   "source": [
    "dataset_path=os.path.join(dataset_root,'Amazon_Sports_and_Outdoors')\n",
    "os.listdir(dataset_path)"
   ]
  },
  {
   "cell_type": "markdown",
   "metadata": {},
   "source": [
    "## Reading the dataset using recbole"
   ]
  },
  {
   "cell_type": "code",
   "execution_count": 18,
   "metadata": {},
   "outputs": [
    {
     "data": {
      "text/plain": [
       "{'gpu_id': 0,\n",
       " 'use_gpu': True,\n",
       " 'seed': 212,\n",
       " 'state': 'INFO',\n",
       " 'reproducibility': True,\n",
       " 'data_path': '/home/gkoren2/code/git/gkoren2/DIF-SR/dataset/Amazon_Sports_and_Outdoors',\n",
       " 'checkpoint_dir': 'saved',\n",
       " 'show_progress': True,\n",
       " 'save_dataset': False,\n",
       " 'save_dataloaders': False,\n",
       " 'epochs': 200,\n",
       " 'train_batch_size': 2048,\n",
       " 'learner': 'adam',\n",
       " 'learning_rate': 0.0001,\n",
       " 'neg_sampling': None,\n",
       " 'eval_step': 2,\n",
       " 'stopping_step': 10,\n",
       " 'clip_grad_norm': None,\n",
       " 'weight_decay': 0.0,\n",
       " 'multi_gpus': False,\n",
       " 'eval_args': {'split': {'LS': 'valid_and_test'},\n",
       "  'group_by': 'user',\n",
       "  'order': 'TO',\n",
       "  'mode': 'full'},\n",
       " 'repeatable': True,\n",
       " 'metrics': ['Recall', 'NDCG'],\n",
       " 'topk': [3, 5, 10, 20],\n",
       " 'valid_metric': 'Recall@20',\n",
       " 'valid_metric_bigger': True,\n",
       " 'eval_batch_size': 256,\n",
       " 'loss_decimal_place': 4,\n",
       " 'metric_decimal_place': 4,\n",
       " 'n_layers': 3,\n",
       " 'n_heads': 8,\n",
       " 'hidden_size': 256,\n",
       " 'attribute_hidden_size': [64],\n",
       " 'inner_size': 256,\n",
       " 'hidden_dropout_prob': 0.5,\n",
       " 'attn_dropout_prob': 0.3,\n",
       " 'hidden_act': 'gelu',\n",
       " 'layer_norm_eps': 1e-12,\n",
       " 'initializer_range': 0.02,\n",
       " 'selected_features': ['categories'],\n",
       " 'pooling_mode': 'sum',\n",
       " 'loss_type': 'CE',\n",
       " 'weight_sharing': 'not',\n",
       " 'fusion_type': 'gate',\n",
       " 'lamdas': [5],\n",
       " 'attribute_predictor': 'linear',\n",
       " 'field_separator': '\\t',\n",
       " 'seq_separator': ' ',\n",
       " 'USER_ID_FIELD': 'user_id',\n",
       " 'ITEM_ID_FIELD': 'item_id',\n",
       " 'RATING_FIELD': 'rating',\n",
       " 'TIME_FIELD': 'timestamp',\n",
       " 'seq_len': None,\n",
       " 'LABEL_FIELD': 'label',\n",
       " 'threshold': None,\n",
       " 'NEG_PREFIX': 'neg_',\n",
       " 'load_col': {'inter': ['user_id', 'item_id', 'rating', 'timestamp'],\n",
       "  'item': ['item_id',\n",
       "   'title',\n",
       "   'sales_rank',\n",
       "   'price',\n",
       "   'brand',\n",
       "   'categories',\n",
       "   'sales_type']},\n",
       " 'unload_col': None,\n",
       " 'unused_col': None,\n",
       " 'additional_feat_suffix': None,\n",
       " 'rm_dup_inter': None,\n",
       " 'val_interval': None,\n",
       " 'filter_inter_by_user_or_item': True,\n",
       " 'user_inter_num_interval': '[5,inf)',\n",
       " 'item_inter_num_interval': '[5,inf)',\n",
       " 'alias_of_user_id': None,\n",
       " 'alias_of_item_id': None,\n",
       " 'alias_of_entity_id': None,\n",
       " 'alias_of_relation_id': None,\n",
       " 'preload_weight': None,\n",
       " 'normalize_field': None,\n",
       " 'normalize_all': None,\n",
       " 'ITEM_LIST_LENGTH_FIELD': 'item_length',\n",
       " 'LIST_SUFFIX': '_list',\n",
       " 'MAX_ITEM_LIST_LENGTH': 50,\n",
       " 'POSITION_FIELD': 'position_id',\n",
       " 'HEAD_ENTITY_ID_FIELD': 'head_id',\n",
       " 'TAIL_ENTITY_ID_FIELD': 'tail_id',\n",
       " 'RELATION_ID_FIELD': 'relation_id',\n",
       " 'ENTITY_ID_FIELD': 'entity_id',\n",
       " 'benchmark_filename': None,\n",
       " 'MODEL_TYPE': <ModelType.SEQUENTIAL: 2>,\n",
       " 'dataset': 'Amazon_Sports_and_Outdoors',\n",
       " 'model': 'SASRecD',\n",
       " 'MODEL_INPUT_TYPE': <InputType.POINTWISE: 1>,\n",
       " 'eval_type': <EvaluatorType.RANKING: 1>,\n",
       " 'device': device(type='cuda'),\n",
       " 'train_neg_sample_args': {'strategy': 'none'},\n",
       " 'eval_neg_sample_args': {'strategy': 'full', 'distribution': 'uniform'}}"
      ]
     },
     "execution_count": 18,
     "metadata": {},
     "output_type": "execute_result"
    }
   ],
   "source": [
    "# reading the dataset through the recbole framework\n",
    "args=Arguments(dataset=\"Amazon_Sports_and_Outdoors\",config_files=os.path.join(difsr_root,'configs/orig/Amazon_Sports_and_Outdoors.yaml'))\n",
    "config_file_list = args.config_files.strip().split(' ') if args.config_files else None\n",
    "config = Config(model=args.model, dataset=f'{args.dataset}', config_file_list=config_file_list)\n",
    "config.final_config_dict['data_path'] = os.path.join(difsr_root,config.final_config_dict['data_path'])\n",
    "config.final_config_dict"
   ]
  },
  {
   "cell_type": "code",
   "execution_count": null,
   "metadata": {},
   "outputs": [],
   "source": [
    "dataset = create_dataset(config)\n",
    "dataset"
   ]
  },
  {
   "cell_type": "code",
   "execution_count": null,
   "metadata": {},
   "outputs": [],
   "source": [
    "dataset.item_feat.head()"
   ]
  },
  {
   "cell_type": "markdown",
   "metadata": {},
   "source": [
    "## Read item data"
   ]
  },
  {
   "cell_type": "code",
   "execution_count": 35,
   "metadata": {},
   "outputs": [
    {
     "data": {
      "text/html": [
       "<div>\n",
       "<style scoped>\n",
       "    .dataframe tbody tr th:only-of-type {\n",
       "        vertical-align: middle;\n",
       "    }\n",
       "\n",
       "    .dataframe tbody tr th {\n",
       "        vertical-align: top;\n",
       "    }\n",
       "\n",
       "    .dataframe thead th {\n",
       "        text-align: right;\n",
       "    }\n",
       "</style>\n",
       "<table border=\"1\" class=\"dataframe\">\n",
       "  <thead>\n",
       "    <tr style=\"text-align: right;\">\n",
       "      <th></th>\n",
       "      <th>item_id:token</th>\n",
       "      <th>title:token</th>\n",
       "      <th>price:float</th>\n",
       "      <th>brand:token</th>\n",
       "      <th>categories:token_seq</th>\n",
       "      <th>sales_type:token</th>\n",
       "      <th>sales_rank:float</th>\n",
       "    </tr>\n",
       "  </thead>\n",
       "  <tbody>\n",
       "    <tr>\n",
       "      <th>0</th>\n",
       "      <td>0000032069</td>\n",
       "      <td>Adult Ballet Tutu Cheetah Pink</td>\n",
       "      <td>7.89</td>\n",
       "      <td>BubuBibi</td>\n",
       "      <td>'Sports &amp; Outdoors', 'Skirts', 'Clothing', 'Gi...</td>\n",
       "      <td>NaN</td>\n",
       "      <td>NaN</td>\n",
       "    </tr>\n",
       "    <tr>\n",
       "      <th>1</th>\n",
       "      <td>0000031909</td>\n",
       "      <td>Girls Ballet Tutu Neon Pink</td>\n",
       "      <td>7.00</td>\n",
       "      <td>Unknown</td>\n",
       "      <td>'Other Sports', 'Dance', 'Sports &amp; Outdoors'</td>\n",
       "      <td>Toys &amp; Games</td>\n",
       "      <td>201847.0</td>\n",
       "    </tr>\n",
       "    <tr>\n",
       "      <th>2</th>\n",
       "      <td>0000032034</td>\n",
       "      <td>Adult Ballet Tutu Yellow</td>\n",
       "      <td>7.87</td>\n",
       "      <td>BubuBibi</td>\n",
       "      <td>'Sports &amp; Outdoors', 'Skirts', 'Clothing', 'Gi...</td>\n",
       "      <td>NaN</td>\n",
       "      <td>NaN</td>\n",
       "    </tr>\n",
       "    <tr>\n",
       "      <th>3</th>\n",
       "      <td>0000031852</td>\n",
       "      <td>Girls Ballet Tutu Zebra Hot Pink</td>\n",
       "      <td>3.17</td>\n",
       "      <td>Coxlures</td>\n",
       "      <td>'Other Sports', 'Dance', 'Sports &amp; Outdoors'</td>\n",
       "      <td>Toys &amp; Games</td>\n",
       "      <td>211836.0</td>\n",
       "    </tr>\n",
       "    <tr>\n",
       "      <th>4</th>\n",
       "      <td>0000032050</td>\n",
       "      <td>Adult Ballet Tutu Purple</td>\n",
       "      <td>12.85</td>\n",
       "      <td>BubuBibi</td>\n",
       "      <td>'Sports &amp; Outdoors', 'Skirts', 'Clothing', 'Gi...</td>\n",
       "      <td>NaN</td>\n",
       "      <td>NaN</td>\n",
       "    </tr>\n",
       "  </tbody>\n",
       "</table>\n",
       "</div>"
      ],
      "text/plain": [
       "  item_id:token                       title:token  price:float brand:token  \\\n",
       "0    0000032069    Adult Ballet Tutu Cheetah Pink         7.89    BubuBibi   \n",
       "1    0000031909       Girls Ballet Tutu Neon Pink         7.00     Unknown   \n",
       "2    0000032034          Adult Ballet Tutu Yellow         7.87    BubuBibi   \n",
       "3    0000031852  Girls Ballet Tutu Zebra Hot Pink         3.17    Coxlures   \n",
       "4    0000032050          Adult Ballet Tutu Purple        12.85    BubuBibi   \n",
       "\n",
       "                                categories:token_seq sales_type:token  \\\n",
       "0  'Sports & Outdoors', 'Skirts', 'Clothing', 'Gi...              NaN   \n",
       "1       'Other Sports', 'Dance', 'Sports & Outdoors'     Toys & Games   \n",
       "2  'Sports & Outdoors', 'Skirts', 'Clothing', 'Gi...              NaN   \n",
       "3       'Other Sports', 'Dance', 'Sports & Outdoors'     Toys & Games   \n",
       "4  'Sports & Outdoors', 'Skirts', 'Clothing', 'Gi...              NaN   \n",
       "\n",
       "   sales_rank:float  \n",
       "0               NaN  \n",
       "1          201847.0  \n",
       "2               NaN  \n",
       "3          211836.0  \n",
       "4               NaN  "
      ]
     },
     "execution_count": 35,
     "metadata": {},
     "output_type": "execute_result"
    }
   ],
   "source": [
    "sdf=pd.read_csv(os.path.join(dataset_path,'Amazon_Sports_and_Outdoors.item'),sep='\\t')\n",
    "sdf.head()"
   ]
  },
  {
   "cell_type": "code",
   "execution_count": 36,
   "metadata": {},
   "outputs": [
    {
     "data": {
      "text/plain": [
       "item_id:token           1.000000\n",
       "title:token             0.995675\n",
       "price:float             0.540762\n",
       "brand:token             0.283859\n",
       "categories:token_seq    1.000000\n",
       "sales_type:token        0.913271\n",
       "sales_rank:float        0.913271\n",
       "dtype: float64"
      ]
     },
     "execution_count": 36,
     "metadata": {},
     "output_type": "execute_result"
    }
   ],
   "source": [
    "# check how many non-Nan values are there in each column\n",
    "sdf.count()/len(sdf)"
   ]
  },
  {
   "cell_type": "code",
   "execution_count": 37,
   "metadata": {},
   "outputs": [
    {
     "data": {
      "text/plain": [
       "Sports &amp; Outdoors        370419\n",
       "Clothing                      78003\n",
       "Watches                       11104\n",
       "Toys & Games                   4167\n",
       "Shoes                          3550\n",
       "Home &amp; Kitchen             2889\n",
       "Patio, Lawn & Garden           2728\n",
       "Health & Personal Care         2237\n",
       "Kitchen & Dining               1800\n",
       "Jewelry                        1747\n",
       "Pet Supplies                   1566\n",
       "Industrial & Scientific        1222\n",
       "Cell Phones & Accessories       829\n",
       "Automotive                      702\n",
       "Electronics                     665\n",
       "Music                           604\n",
       "Video Games                     527\n",
       "Camera &amp; Photo              456\n",
       "Beauty                          335\n",
       "Arts, Crafts & Sewing           215\n",
       "Musical Instruments              81\n",
       "Home Improvement                 74\n",
       "Software                         46\n",
       "Movies & TV                      33\n",
       "Baby                             16\n",
       "Computers & Accessories          12\n",
       "Office Products                   6\n",
       "Grocery & Gourmet Food            5\n",
       "Books                             2\n",
       "Name: sales_type:token, dtype: int64"
      ]
     },
     "execution_count": 37,
     "metadata": {},
     "output_type": "execute_result"
    }
   ],
   "source": [
    "sdf['sales_type:token'].value_counts()"
   ]
  },
  {
   "cell_type": "markdown",
   "metadata": {},
   "source": [
    "# Yelp"
   ]
  },
  {
   "cell_type": "code",
   "execution_count": 10,
   "metadata": {},
   "outputs": [
    {
     "data": {
      "text/plain": [
       "['yelp.user', 'yelp.inter', 'yelp.item', 'README.md']"
      ]
     },
     "execution_count": 10,
     "metadata": {},
     "output_type": "execute_result"
    }
   ],
   "source": [
    "dataset_path=os.path.join(dataset_root,'yelp')\n",
    "os.listdir(dataset_path)"
   ]
  },
  {
   "cell_type": "markdown",
   "metadata": {},
   "source": [
    "## Reading the dataset using recbole"
   ]
  },
  {
   "cell_type": "code",
   "execution_count": null,
   "metadata": {},
   "outputs": [],
   "source": [
    "# reading the dataset through the recbole framework\n",
    "args=Arguments(dataset=\"yelp\",config_files=os.path.join(difsr_root,'configs/orig/yelp.yaml'))\n",
    "config_file_list = args.config_files.strip().split(' ') if args.config_files else None\n",
    "config = Config(model=args.model, dataset=f'{args.dataset}', config_file_list=config_file_list)\n",
    "config.final_config_dict['data_path'] = os.path.join(difsr_root,config.final_config_dict['data_path'])\n",
    "config.final_config_dict"
   ]
  },
  {
   "cell_type": "code",
   "execution_count": null,
   "metadata": {},
   "outputs": [],
   "source": [
    "dataset = create_dataset(config)\n",
    "dataset"
   ]
  },
  {
   "cell_type": "code",
   "execution_count": null,
   "metadata": {},
   "outputs": [],
   "source": [
    "dataset.item_feat.head()"
   ]
  },
  {
   "cell_type": "markdown",
   "metadata": {},
   "source": [
    "## read item data"
   ]
  },
  {
   "cell_type": "code",
   "execution_count": 11,
   "metadata": {},
   "outputs": [
    {
     "data": {
      "text/html": [
       "<div>\n",
       "<style scoped>\n",
       "    .dataframe tbody tr th:only-of-type {\n",
       "        vertical-align: middle;\n",
       "    }\n",
       "\n",
       "    .dataframe tbody tr th {\n",
       "        vertical-align: top;\n",
       "    }\n",
       "\n",
       "    .dataframe thead th {\n",
       "        text-align: right;\n",
       "    }\n",
       "</style>\n",
       "<table border=\"1\" class=\"dataframe\">\n",
       "  <thead>\n",
       "    <tr style=\"text-align: right;\">\n",
       "      <th></th>\n",
       "      <th>business_id:token</th>\n",
       "      <th>item_name:token_seq</th>\n",
       "      <th>address:token_seq</th>\n",
       "      <th>city:token_seq</th>\n",
       "      <th>state:token</th>\n",
       "      <th>postal_code:token</th>\n",
       "      <th>latitude:float</th>\n",
       "      <th>longitude:float</th>\n",
       "      <th>item_stars:float</th>\n",
       "      <th>item_review_count:float</th>\n",
       "      <th>is_open:float</th>\n",
       "      <th>categories:token_seq</th>\n",
       "    </tr>\n",
       "  </thead>\n",
       "  <tbody>\n",
       "    <tr>\n",
       "      <th>0</th>\n",
       "      <td>f9NumwFMBDn751xgFiRbNA</td>\n",
       "      <td>The Range At Lake Norman</td>\n",
       "      <td>10913 Bailey Rd</td>\n",
       "      <td>Cornelius</td>\n",
       "      <td>NC</td>\n",
       "      <td>28031</td>\n",
       "      <td>35.462724</td>\n",
       "      <td>-80.852612</td>\n",
       "      <td>3.5</td>\n",
       "      <td>36</td>\n",
       "      <td>1</td>\n",
       "      <td>Active Life, Gun/Rifle Ranges, Guns &amp; Ammo, Sh...</td>\n",
       "    </tr>\n",
       "    <tr>\n",
       "      <th>1</th>\n",
       "      <td>Yzvjg0SayhoZgCljUJRF9Q</td>\n",
       "      <td>Carlos Santo, NMD</td>\n",
       "      <td>8880 E Via Linda, Ste 107</td>\n",
       "      <td>Scottsdale</td>\n",
       "      <td>AZ</td>\n",
       "      <td>85258</td>\n",
       "      <td>33.569404</td>\n",
       "      <td>-111.890264</td>\n",
       "      <td>5.0</td>\n",
       "      <td>4</td>\n",
       "      <td>1</td>\n",
       "      <td>Health &amp; Medical, Fitness &amp; Instruction, Yoga,...</td>\n",
       "    </tr>\n",
       "    <tr>\n",
       "      <th>2</th>\n",
       "      <td>XNoUzKckATkOD1hP6vghZg</td>\n",
       "      <td>Felinus</td>\n",
       "      <td>3554 Rue Notre-Dame O</td>\n",
       "      <td>Montreal</td>\n",
       "      <td>QC</td>\n",
       "      <td>H4C 1P4</td>\n",
       "      <td>45.479984</td>\n",
       "      <td>-73.580070</td>\n",
       "      <td>5.0</td>\n",
       "      <td>5</td>\n",
       "      <td>1</td>\n",
       "      <td>Pets, Pet Services, Pet Groomers</td>\n",
       "    </tr>\n",
       "    <tr>\n",
       "      <th>3</th>\n",
       "      <td>6OAZjbxqM5ol29BuHsil3w</td>\n",
       "      <td>Nevada House of Hose</td>\n",
       "      <td>1015 Sharp Cir</td>\n",
       "      <td>North Las Vegas</td>\n",
       "      <td>NV</td>\n",
       "      <td>89030</td>\n",
       "      <td>36.219728</td>\n",
       "      <td>-115.127725</td>\n",
       "      <td>2.5</td>\n",
       "      <td>3</td>\n",
       "      <td>0</td>\n",
       "      <td>Hardware Stores, Home Services, Building Suppl...</td>\n",
       "    </tr>\n",
       "    <tr>\n",
       "      <th>4</th>\n",
       "      <td>51M2Kk903DFYI6gnB5I6SQ</td>\n",
       "      <td>USE MY GUY SERVICES LLC</td>\n",
       "      <td>4827 E Downing Cir</td>\n",
       "      <td>Mesa</td>\n",
       "      <td>AZ</td>\n",
       "      <td>85205</td>\n",
       "      <td>33.428065</td>\n",
       "      <td>-111.726648</td>\n",
       "      <td>4.5</td>\n",
       "      <td>26</td>\n",
       "      <td>1</td>\n",
       "      <td>Home Services, Plumbing, Electricians, Handyma...</td>\n",
       "    </tr>\n",
       "  </tbody>\n",
       "</table>\n",
       "</div>"
      ],
      "text/plain": [
       "        business_id:token       item_name:token_seq  \\\n",
       "0  f9NumwFMBDn751xgFiRbNA  The Range At Lake Norman   \n",
       "1  Yzvjg0SayhoZgCljUJRF9Q         Carlos Santo, NMD   \n",
       "2  XNoUzKckATkOD1hP6vghZg                   Felinus   \n",
       "3  6OAZjbxqM5ol29BuHsil3w      Nevada House of Hose   \n",
       "4  51M2Kk903DFYI6gnB5I6SQ   USE MY GUY SERVICES LLC   \n",
       "\n",
       "           address:token_seq   city:token_seq state:token postal_code:token  \\\n",
       "0            10913 Bailey Rd        Cornelius          NC             28031   \n",
       "1  8880 E Via Linda, Ste 107       Scottsdale          AZ             85258   \n",
       "2      3554 Rue Notre-Dame O         Montreal          QC           H4C 1P4   \n",
       "3             1015 Sharp Cir  North Las Vegas          NV             89030   \n",
       "4         4827 E Downing Cir             Mesa          AZ             85205   \n",
       "\n",
       "   latitude:float  longitude:float  item_stars:float  item_review_count:float  \\\n",
       "0       35.462724       -80.852612               3.5                       36   \n",
       "1       33.569404      -111.890264               5.0                        4   \n",
       "2       45.479984       -73.580070               5.0                        5   \n",
       "3       36.219728      -115.127725               2.5                        3   \n",
       "4       33.428065      -111.726648               4.5                       26   \n",
       "\n",
       "   is_open:float                               categories:token_seq  \n",
       "0              1  Active Life, Gun/Rifle Ranges, Guns & Ammo, Sh...  \n",
       "1              1  Health & Medical, Fitness & Instruction, Yoga,...  \n",
       "2              1                   Pets, Pet Services, Pet Groomers  \n",
       "3              0  Hardware Stores, Home Services, Building Suppl...  \n",
       "4              1  Home Services, Plumbing, Electricians, Handyma...  "
      ]
     },
     "execution_count": 11,
     "metadata": {},
     "output_type": "execute_result"
    }
   ],
   "source": [
    "ydf=pd.read_csv(os.path.join(dataset_path,'yelp.item'),sep='\\t')\n",
    "ydf.head()"
   ]
  },
  {
   "cell_type": "code",
   "execution_count": 13,
   "metadata": {},
   "outputs": [
    {
     "data": {
      "text/plain": [
       "business_id:token          1.000000\n",
       "item_name:token_seq        0.999995\n",
       "address:token_seq          0.958552\n",
       "city:token_seq             0.999990\n",
       "state:token                1.000000\n",
       "postal_code:token          0.997569\n",
       "latitude:float             1.000000\n",
       "longitude:float            1.000000\n",
       "item_stars:float           1.000000\n",
       "item_review_count:float    1.000000\n",
       "is_open:float              1.000000\n",
       "categories:token_seq       1.000000\n",
       "dtype: float64"
      ]
     },
     "execution_count": 13,
     "metadata": {},
     "output_type": "execute_result"
    }
   ],
   "source": [
    "# check how many non-Nan values are there in each column\n",
    "ydf.count()/len(ydf)"
   ]
  },
  {
   "cell_type": "markdown",
   "metadata": {},
   "source": [
    "# Steam"
   ]
  },
  {
   "cell_type": "code",
   "execution_count": 7,
   "metadata": {},
   "outputs": [
    {
     "data": {
      "text/plain": [
       "['steam.inter', 'steam.item']"
      ]
     },
     "execution_count": 7,
     "metadata": {},
     "output_type": "execute_result"
    }
   ],
   "source": [
    "dataset_path=os.path.join(dataset_root,'Steam')\n",
    "os.listdir(dataset_path)"
   ]
  },
  {
   "cell_type": "markdown",
   "metadata": {},
   "source": [
    "## Reading the dataset using recbole"
   ]
  },
  {
   "cell_type": "code",
   "execution_count": null,
   "metadata": {},
   "outputs": [],
   "source": [
    "# reading the dataset through the recbole framework\n",
    "args=Arguments(dataset=\"Steam\",config_files=os.path.join(difsr_root,'configs/Steam.yaml'))\n",
    "config_file_list = args.config_files.strip().split(' ') if args.config_files else None\n",
    "config = Config(model=args.model, dataset=f'{args.dataset}', config_file_list=config_file_list)\n",
    "config.final_config_dict['data_path'] = os.path.join(difsr_root,config.final_config_dict['data_path'])\n",
    "config.final_config_dict"
   ]
  },
  {
   "cell_type": "code",
   "execution_count": null,
   "metadata": {},
   "outputs": [],
   "source": [
    "dataset = create_dataset(config)\n",
    "dataset"
   ]
  },
  {
   "cell_type": "code",
   "execution_count": null,
   "metadata": {},
   "outputs": [],
   "source": [
    "dataset.item_feat.head()"
   ]
  },
  {
   "cell_type": "markdown",
   "metadata": {},
   "source": [
    "## read item data"
   ]
  },
  {
   "cell_type": "code",
   "execution_count": 8,
   "metadata": {},
   "outputs": [
    {
     "data": {
      "text/html": [
       "<div>\n",
       "<style scoped>\n",
       "    .dataframe tbody tr th:only-of-type {\n",
       "        vertical-align: middle;\n",
       "    }\n",
       "\n",
       "    .dataframe tbody tr th {\n",
       "        vertical-align: top;\n",
       "    }\n",
       "\n",
       "    .dataframe thead th {\n",
       "        text-align: right;\n",
       "    }\n",
       "</style>\n",
       "<table border=\"1\" class=\"dataframe\">\n",
       "  <thead>\n",
       "    <tr style=\"text-align: right;\">\n",
       "      <th></th>\n",
       "      <th>app_name:token</th>\n",
       "      <th>developer:token</th>\n",
       "      <th>early_access:token</th>\n",
       "      <th>genres:token_seq</th>\n",
       "      <th>id:token</th>\n",
       "      <th>metascore:float</th>\n",
       "      <th>price:float</th>\n",
       "      <th>publisher:token</th>\n",
       "      <th>timestamp:float</th>\n",
       "      <th>sentiment:token</th>\n",
       "      <th>specs:token_seq</th>\n",
       "      <th>tags:token_seq</th>\n",
       "      <th>title:token</th>\n",
       "    </tr>\n",
       "  </thead>\n",
       "  <tbody>\n",
       "    <tr>\n",
       "      <th>0</th>\n",
       "      <td>Ironbound</td>\n",
       "      <td>Secret Level SRL</td>\n",
       "      <td>False</td>\n",
       "      <td>[Free to Play, Indie, RPG, Strategy]</td>\n",
       "      <td>643980.0</td>\n",
       "      <td>NaN</td>\n",
       "      <td>Free To Play</td>\n",
       "      <td>Making Fun, Inc.</td>\n",
       "      <td>1.515024e+09</td>\n",
       "      <td>Mostly Positive</td>\n",
       "      <td>[Single-player, Multi-player, Online Multi-Pla...</td>\n",
       "      <td>[Free to Play, Strategy, Indie, RPG, Card Game...</td>\n",
       "      <td>Ironbound</td>\n",
       "    </tr>\n",
       "    <tr>\n",
       "      <th>1</th>\n",
       "      <td>Real Pool 3D - Poolians</td>\n",
       "      <td>Poolians.com</td>\n",
       "      <td>False</td>\n",
       "      <td>[Casual, Free to Play, Indie, Simulation, Sports]</td>\n",
       "      <td>670290.0</td>\n",
       "      <td>NaN</td>\n",
       "      <td>Free to Play</td>\n",
       "      <td>Poolians.com</td>\n",
       "      <td>1.500854e+09</td>\n",
       "      <td>Mostly Positive</td>\n",
       "      <td>[Single-player, Multi-player, Online Multi-Pla...</td>\n",
       "      <td>[Free to Play, Simulation, Sports, Casual, Ind...</td>\n",
       "      <td>Real Pool 3D - Poolians</td>\n",
       "    </tr>\n",
       "    <tr>\n",
       "      <th>2</th>\n",
       "      <td>\\u5f39\\u70b8\\u4eba2222</td>\n",
       "      <td>\\u5f7c\\u5cb8\\u9886\\u57df</td>\n",
       "      <td>False</td>\n",
       "      <td>[Action, Adventure, Casual]</td>\n",
       "      <td>767400.0</td>\n",
       "      <td>NaN</td>\n",
       "      <td>0.99</td>\n",
       "      <td>\\u5f7c\\u5cb8\\u9886\\u57df</td>\n",
       "      <td>1.512605e+09</td>\n",
       "      <td>NaN</td>\n",
       "      <td>[Single-player]</td>\n",
       "      <td>[Action, Adventure, Casual]</td>\n",
       "      <td>\\u5f39\\u70b8\\u4eba2222</td>\n",
       "    </tr>\n",
       "    <tr>\n",
       "      <th>3</th>\n",
       "      <td>Log Challenge</td>\n",
       "      <td>NaN</td>\n",
       "      <td>False</td>\n",
       "      <td>NaN</td>\n",
       "      <td>773570.0</td>\n",
       "      <td>NaN</td>\n",
       "      <td>2.99</td>\n",
       "      <td>NaN</td>\n",
       "      <td>NaN</td>\n",
       "      <td>NaN</td>\n",
       "      <td>[Single-player, Full controller support, HTC V...</td>\n",
       "      <td>[Action, Indie, Casual, Sports]</td>\n",
       "      <td>NaN</td>\n",
       "    </tr>\n",
       "    <tr>\n",
       "      <th>4</th>\n",
       "      <td>Battle Royale Trainer</td>\n",
       "      <td>Trickjump Games Ltd</td>\n",
       "      <td>False</td>\n",
       "      <td>[Action, Adventure, Simulation]</td>\n",
       "      <td>772540.0</td>\n",
       "      <td>NaN</td>\n",
       "      <td>3.99</td>\n",
       "      <td>Trickjump Games Ltd</td>\n",
       "      <td>1.515024e+09</td>\n",
       "      <td>Mixed</td>\n",
       "      <td>[Single-player, Steam Achievements]</td>\n",
       "      <td>[Action, Adventure, Simulation, FPS, Shooter, ...</td>\n",
       "      <td>Battle Royale Trainer</td>\n",
       "    </tr>\n",
       "  </tbody>\n",
       "</table>\n",
       "</div>"
      ],
      "text/plain": [
       "            app_name:token           developer:token  early_access:token  \\\n",
       "0                Ironbound          Secret Level SRL               False   \n",
       "1  Real Pool 3D - Poolians              Poolians.com               False   \n",
       "2   \\u5f39\\u70b8\\u4eba2222  \\u5f7c\\u5cb8\\u9886\\u57df               False   \n",
       "3            Log Challenge                       NaN               False   \n",
       "4    Battle Royale Trainer       Trickjump Games Ltd               False   \n",
       "\n",
       "                                    genres:token_seq  id:token  \\\n",
       "0               [Free to Play, Indie, RPG, Strategy]  643980.0   \n",
       "1  [Casual, Free to Play, Indie, Simulation, Sports]  670290.0   \n",
       "2                        [Action, Adventure, Casual]  767400.0   \n",
       "3                                                NaN  773570.0   \n",
       "4                    [Action, Adventure, Simulation]  772540.0   \n",
       "\n",
       "   metascore:float   price:float           publisher:token  timestamp:float  \\\n",
       "0              NaN  Free To Play          Making Fun, Inc.     1.515024e+09   \n",
       "1              NaN  Free to Play              Poolians.com     1.500854e+09   \n",
       "2              NaN          0.99  \\u5f7c\\u5cb8\\u9886\\u57df     1.512605e+09   \n",
       "3              NaN          2.99                       NaN              NaN   \n",
       "4              NaN          3.99       Trickjump Games Ltd     1.515024e+09   \n",
       "\n",
       "   sentiment:token                                    specs:token_seq  \\\n",
       "0  Mostly Positive  [Single-player, Multi-player, Online Multi-Pla...   \n",
       "1  Mostly Positive  [Single-player, Multi-player, Online Multi-Pla...   \n",
       "2              NaN                                    [Single-player]   \n",
       "3              NaN  [Single-player, Full controller support, HTC V...   \n",
       "4            Mixed                [Single-player, Steam Achievements]   \n",
       "\n",
       "                                      tags:token_seq              title:token  \n",
       "0  [Free to Play, Strategy, Indie, RPG, Card Game...                Ironbound  \n",
       "1  [Free to Play, Simulation, Sports, Casual, Ind...  Real Pool 3D - Poolians  \n",
       "2                        [Action, Adventure, Casual]   \\u5f39\\u70b8\\u4eba2222  \n",
       "3                    [Action, Indie, Casual, Sports]                      NaN  \n",
       "4  [Action, Adventure, Simulation, FPS, Shooter, ...    Battle Royale Trainer  "
      ]
     },
     "execution_count": 8,
     "metadata": {},
     "output_type": "execute_result"
    }
   ],
   "source": [
    "sdf=pd.read_csv(os.path.join(dataset_path,'steam.item'),sep='\\t')\n",
    "sdf.head()"
   ]
  },
  {
   "cell_type": "code",
   "execution_count": 9,
   "metadata": {},
   "outputs": [
    {
     "data": {
      "text/plain": [
       "app_name:token        0.999938\n",
       "developer:token       0.897336\n",
       "early_access:token    1.000000\n",
       "genres:token_seq      0.897834\n",
       "id:token              0.999938\n",
       "metascore:float       0.081129\n",
       "price:float           0.957148\n",
       "publisher:token       0.749113\n",
       "timestamp:float       0.926806\n",
       "sentiment:token       0.776530\n",
       "specs:token_seq       0.979150\n",
       "tags:token_seq        0.994927\n",
       "title:token           0.936205\n",
       "dtype: float64"
      ]
     },
     "execution_count": 9,
     "metadata": {},
     "output_type": "execute_result"
    }
   ],
   "source": [
    "# check how many non-Nan values are there in each column\n",
    "sdf.count()/len(sdf)"
   ]
  }
 ],
 "metadata": {
  "kernelspec": {
   "display_name": "Python 3 (ipykernel)",
   "language": "python",
   "name": "python3"
  },
  "language_info": {
   "codemirror_mode": {
    "name": "ipython",
    "version": 3
   },
   "file_extension": ".py",
   "mimetype": "text/x-python",
   "name": "python",
   "nbconvert_exporter": "python",
   "pygments_lexer": "ipython3",
   "version": "3.9.16"
  },
  "toc": {
   "base_numbering": 1,
   "nav_menu": {},
   "number_sections": true,
   "sideBar": true,
   "skip_h1_title": false,
   "title_cell": "Table of Contents",
   "title_sidebar": "Contents",
   "toc_cell": false,
   "toc_position": {},
   "toc_section_display": true,
   "toc_window_display": false
  }
 },
 "nbformat": 4,
 "nbformat_minor": 2
}
