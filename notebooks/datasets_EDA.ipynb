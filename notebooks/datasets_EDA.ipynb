{
 "cells": [
  {
   "attachments": {},
   "cell_type": "markdown",
   "metadata": {},
   "source": [
    "# Import and setup"
   ]
  },
  {
   "cell_type": "code",
   "execution_count": 1,
   "metadata": {},
   "outputs": [
    {
     "name": "stdout",
     "output_type": "stream",
     "text": [
      "/home/guy/anaconda3/envs/difsr/bin/python\n"
     ]
    }
   ],
   "source": [
    "!which python"
   ]
  },
  {
   "cell_type": "code",
   "execution_count": 2,
   "metadata": {},
   "outputs": [
    {
     "data": {
      "text/plain": [
       "['/home/guy/workspace/work/git/gkoren2/DIF-SR/notebooks',\n",
       " '/home/guy/workspace/work/git/gkoren2/DIF-SR',\n",
       " '/home/guy/anaconda3/envs/difsr/lib/python39.zip',\n",
       " '/home/guy/anaconda3/envs/difsr/lib/python3.9',\n",
       " '/home/guy/anaconda3/envs/difsr/lib/python3.9/lib-dynload',\n",
       " '',\n",
       " '/home/guy/anaconda3/envs/difsr/lib/python3.9/site-packages']"
      ]
     },
     "execution_count": 2,
     "metadata": {},
     "output_type": "execute_result"
    }
   ],
   "source": [
    "import os\n",
    "import sys\n",
    "difsr_root= os.path.dirname(os.getcwd())\n",
    "sys.path.insert(1, difsr_root)\n",
    "sys.path"
   ]
  },
  {
   "cell_type": "code",
   "execution_count": 16,
   "metadata": {},
   "outputs": [],
   "source": [
    "import os \n",
    "import pandas as pd\n",
    "import numpy as np\n",
    "from datetime import datetime\n",
    "from recbole.config import Config\n",
    "from recbole.data import create_dataset\n",
    "from recbole.data.utils import get_dataloader\n",
    "from recbole.utils import init_logger, init_seed, get_model, get_trainer, set_color\n",
    "import matplotlib.pyplot as plt"
   ]
  },
  {
   "cell_type": "code",
   "execution_count": 4,
   "metadata": {},
   "outputs": [
    {
     "data": {
      "text/plain": [
       "['Amazon_Sports_and_Outdoors',\n",
       " 'Amazon_Beauty',\n",
       " 'Amazon_Toys_and_Games',\n",
       " 'Steam',\n",
       " 'yelp']"
      ]
     },
     "execution_count": 4,
     "metadata": {},
     "output_type": "execute_result"
    }
   ],
   "source": [
    "dataset_root = os.path.abspath('../dataset')\n",
    "# os.listdir(dataset_root)\n",
    "os.listdir('../dataset/')"
   ]
  },
  {
   "cell_type": "code",
   "execution_count": 5,
   "metadata": {},
   "outputs": [],
   "source": [
    "from dataclasses import dataclass\n",
    "\n",
    "@dataclass\n",
    "class Arguments:\n",
    "    model:str = 'SASRecD'\n",
    "    dataset:str = 'Amazon_Beauty'\n",
    "    config_files:str = None\n",
    "\n",
    "\n",
    "\n"
   ]
  },
  {
   "attachments": {},
   "cell_type": "markdown",
   "metadata": {},
   "source": [
    "# Amazon Beauty"
   ]
  },
  {
   "cell_type": "code",
   "execution_count": 6,
   "metadata": {},
   "outputs": [
    {
     "data": {
      "text/plain": [
       "['Amazon_Beauty.zip', 'Amazon_Beauty.inter', 'Amazon_Beauty.item']"
      ]
     },
     "execution_count": 6,
     "metadata": {},
     "output_type": "execute_result"
    }
   ],
   "source": [
    "dataset_path=os.path.join(dataset_root,'Amazon_Beauty')\n",
    "os.listdir(dataset_path)"
   ]
  },
  {
   "attachments": {},
   "cell_type": "markdown",
   "metadata": {},
   "source": [
    "## Reading the dataset using recbole "
   ]
  },
  {
   "cell_type": "code",
   "execution_count": 7,
   "metadata": {},
   "outputs": [
    {
     "data": {
      "text/plain": [
       "{'gpu_id': 0,\n",
       " 'use_gpu': True,\n",
       " 'seed': 212,\n",
       " 'state': 'INFO',\n",
       " 'reproducibility': True,\n",
       " 'data_path': '/home/guy/workspace/work/git/gkoren2/DIF-SR/dataset/Amazon_Beauty',\n",
       " 'checkpoint_dir': 'saved',\n",
       " 'show_progress': True,\n",
       " 'save_dataset': False,\n",
       " 'save_dataloaders': False,\n",
       " 'epochs': 200,\n",
       " 'train_batch_size': 1536,\n",
       " 'learner': 'adam',\n",
       " 'learning_rate': 0.0001,\n",
       " 'neg_sampling': None,\n",
       " 'eval_step': 2,\n",
       " 'stopping_step': 10,\n",
       " 'clip_grad_norm': None,\n",
       " 'weight_decay': 0.0,\n",
       " 'multi_gpus': False,\n",
       " 'eval_args': {'split': {'LS': 'valid_and_test'},\n",
       "  'group_by': 'user',\n",
       "  'order': 'TO',\n",
       "  'mode': 'full'},\n",
       " 'repeatable': True,\n",
       " 'metrics': ['Recall', 'NDCG'],\n",
       " 'topk': [3, 5, 10, 20],\n",
       " 'valid_metric': 'Recall@20',\n",
       " 'valid_metric_bigger': True,\n",
       " 'eval_batch_size': 128,\n",
       " 'loss_decimal_place': 4,\n",
       " 'metric_decimal_place': 4,\n",
       " 'n_layers': 4,\n",
       " 'n_heads': 8,\n",
       " 'hidden_size': 256,\n",
       " 'attribute_hidden_size': [64],\n",
       " 'inner_size': 256,\n",
       " 'hidden_dropout_prob': 0.5,\n",
       " 'attn_dropout_prob': 0.3,\n",
       " 'hidden_act': 'gelu',\n",
       " 'layer_norm_eps': 1e-12,\n",
       " 'initializer_range': 0.02,\n",
       " 'selected_features': ['categories'],\n",
       " 'pooling_mode': 'sum',\n",
       " 'loss_type': 'CE',\n",
       " 'weight_sharing': 'not',\n",
       " 'fusion_type': 'gate',\n",
       " 'lamdas': [10],\n",
       " 'attribute_predictor': 'linear',\n",
       " 'field_separator': '\\t',\n",
       " 'seq_separator': ' ',\n",
       " 'USER_ID_FIELD': 'user_id',\n",
       " 'ITEM_ID_FIELD': 'item_id',\n",
       " 'RATING_FIELD': 'rating',\n",
       " 'TIME_FIELD': 'timestamp',\n",
       " 'seq_len': None,\n",
       " 'LABEL_FIELD': 'label',\n",
       " 'threshold': None,\n",
       " 'NEG_PREFIX': 'neg_',\n",
       " 'load_col': {'inter': ['user_id', 'item_id', 'rating', 'timestamp'],\n",
       "  'item': ['item_id',\n",
       "   'title',\n",
       "   'sales_rank',\n",
       "   'price',\n",
       "   'brand',\n",
       "   'categories',\n",
       "   'sales_type']},\n",
       " 'unload_col': None,\n",
       " 'unused_col': None,\n",
       " 'additional_feat_suffix': None,\n",
       " 'rm_dup_inter': None,\n",
       " 'val_interval': None,\n",
       " 'filter_inter_by_user_or_item': True,\n",
       " 'user_inter_num_interval': '[5,inf)',\n",
       " 'item_inter_num_interval': '[5,inf)',\n",
       " 'alias_of_user_id': None,\n",
       " 'alias_of_item_id': None,\n",
       " 'alias_of_entity_id': None,\n",
       " 'alias_of_relation_id': None,\n",
       " 'preload_weight': None,\n",
       " 'normalize_field': None,\n",
       " 'normalize_all': None,\n",
       " 'ITEM_LIST_LENGTH_FIELD': 'item_length',\n",
       " 'LIST_SUFFIX': '_list',\n",
       " 'MAX_ITEM_LIST_LENGTH': 50,\n",
       " 'POSITION_FIELD': 'position_id',\n",
       " 'HEAD_ENTITY_ID_FIELD': 'head_id',\n",
       " 'TAIL_ENTITY_ID_FIELD': 'tail_id',\n",
       " 'RELATION_ID_FIELD': 'relation_id',\n",
       " 'ENTITY_ID_FIELD': 'entity_id',\n",
       " 'benchmark_filename': None,\n",
       " 'MODEL_TYPE': <ModelType.SEQUENTIAL: 2>,\n",
       " 'dataset': 'Amazon_Beauty',\n",
       " 'model': 'SASRecD',\n",
       " 'MODEL_INPUT_TYPE': <InputType.POINTWISE: 1>,\n",
       " 'eval_type': <EvaluatorType.RANKING: 1>,\n",
       " 'device': device(type='cuda'),\n",
       " 'train_neg_sample_args': {'strategy': 'none'},\n",
       " 'eval_neg_sample_args': {'strategy': 'full', 'distribution': 'uniform'}}"
      ]
     },
     "execution_count": 7,
     "metadata": {},
     "output_type": "execute_result"
    }
   ],
   "source": [
    "# reading the dataset through the recbole framework\n",
    "args=Arguments(dataset=\"Amazon_Beauty\",config_files=os.path.join(difsr_root,'configs/Amazon_Beauty_opt.yaml'))\n",
    "config_file_list = args.config_files.strip().split(' ') if args.config_files else None\n",
    "config = Config(model=args.model, dataset=f'{args.dataset}', config_file_list=config_file_list)\n",
    "config.final_config_dict['data_path'] = os.path.join(difsr_root,config.final_config_dict['data_path'])\n",
    "config.final_config_dict"
   ]
  },
  {
   "cell_type": "code",
   "execution_count": 8,
   "metadata": {},
   "outputs": [
    {
     "data": {
      "text/plain": [
       "\u001b[1;35mAmazon_Beauty\u001b[0m\n",
       "\u001b[1;34mThe number of users\u001b[0m: 22364\n",
       "\u001b[1;34mAverage actions of users\u001b[0m: 8.876358270357287\n",
       "\u001b[1;34mThe number of items\u001b[0m: 12102\n",
       "\u001b[1;34mAverage actions of items\u001b[0m: 16.403768283612923\n",
       "\u001b[1;34mThe number of inters\u001b[0m: 198502\n",
       "\u001b[1;34mThe sparsity of the dataset\u001b[0m: 99.92665707018277%\n",
       "\u001b[1;34mRemain Fields\u001b[0m: ['user_id', 'item_id', 'rating', 'timestamp', 'title', 'sales_type', 'sales_rank', 'categories', 'price', 'brand']"
      ]
     },
     "execution_count": 8,
     "metadata": {},
     "output_type": "execute_result"
    }
   ],
   "source": [
    "dataset = create_dataset(config)\n",
    "dataset"
   ]
  },
  {
   "cell_type": "code",
   "execution_count": 9,
   "metadata": {},
   "outputs": [
    {
     "data": {
      "text/html": [
       "<div>\n",
       "<style scoped>\n",
       "    .dataframe tbody tr th:only-of-type {\n",
       "        vertical-align: middle;\n",
       "    }\n",
       "\n",
       "    .dataframe tbody tr th {\n",
       "        vertical-align: top;\n",
       "    }\n",
       "\n",
       "    .dataframe thead th {\n",
       "        text-align: right;\n",
       "    }\n",
       "</style>\n",
       "<table border=\"1\" class=\"dataframe\">\n",
       "  <thead>\n",
       "    <tr style=\"text-align: right;\">\n",
       "      <th></th>\n",
       "      <th>item_id</th>\n",
       "      <th>title</th>\n",
       "      <th>sales_type</th>\n",
       "      <th>sales_rank</th>\n",
       "      <th>categories</th>\n",
       "      <th>price</th>\n",
       "      <th>brand</th>\n",
       "    </tr>\n",
       "  </thead>\n",
       "  <tbody>\n",
       "    <tr>\n",
       "      <th>0</th>\n",
       "      <td>0</td>\n",
       "      <td>0.0</td>\n",
       "      <td>0.0</td>\n",
       "      <td>277296.568007</td>\n",
       "      <td>[]</td>\n",
       "      <td>17.005026</td>\n",
       "      <td>0.0</td>\n",
       "    </tr>\n",
       "    <tr>\n",
       "      <th>1</th>\n",
       "      <td>1</td>\n",
       "      <td>1.0</td>\n",
       "      <td>1.0</td>\n",
       "      <td>10486.000000</td>\n",
       "      <td>[1, 2, 3, 4, 5, 6]</td>\n",
       "      <td>5.040000</td>\n",
       "      <td>1.0</td>\n",
       "    </tr>\n",
       "    <tr>\n",
       "      <th>2</th>\n",
       "      <td>2</td>\n",
       "      <td>2.0</td>\n",
       "      <td>1.0</td>\n",
       "      <td>52254.000000</td>\n",
       "      <td>[1, 7, 8, 9, 10, 11, 12, 5, 13]</td>\n",
       "      <td>19.990000</td>\n",
       "      <td>2.0</td>\n",
       "    </tr>\n",
       "    <tr>\n",
       "      <th>3</th>\n",
       "      <td>3</td>\n",
       "      <td>3.0</td>\n",
       "      <td>1.0</td>\n",
       "      <td>78916.000000</td>\n",
       "      <td>[1, 14, 15, 16, 17, 18]</td>\n",
       "      <td>65.860000</td>\n",
       "      <td>3.0</td>\n",
       "    </tr>\n",
       "    <tr>\n",
       "      <th>4</th>\n",
       "      <td>4</td>\n",
       "      <td>4.0</td>\n",
       "      <td>1.0</td>\n",
       "      <td>764.000000</td>\n",
       "      <td>[1, 14, 15, 16, 17, 19]</td>\n",
       "      <td>52.330000</td>\n",
       "      <td>4.0</td>\n",
       "    </tr>\n",
       "  </tbody>\n",
       "</table>\n",
       "</div>"
      ],
      "text/plain": [
       "   item_id  title  sales_type     sales_rank                       categories  \\\n",
       "0        0    0.0         0.0  277296.568007                               []   \n",
       "1        1    1.0         1.0   10486.000000               [1, 2, 3, 4, 5, 6]   \n",
       "2        2    2.0         1.0   52254.000000  [1, 7, 8, 9, 10, 11, 12, 5, 13]   \n",
       "3        3    3.0         1.0   78916.000000          [1, 14, 15, 16, 17, 18]   \n",
       "4        4    4.0         1.0     764.000000          [1, 14, 15, 16, 17, 19]   \n",
       "\n",
       "       price  brand  \n",
       "0  17.005026    0.0  \n",
       "1   5.040000    1.0  \n",
       "2  19.990000    2.0  \n",
       "3  65.860000    3.0  \n",
       "4  52.330000    4.0  "
      ]
     },
     "execution_count": 9,
     "metadata": {},
     "output_type": "execute_result"
    }
   ],
   "source": [
    "dataset.item_feat.head()"
   ]
  },
  {
   "cell_type": "code",
   "execution_count": 38,
   "metadata": {},
   "outputs": [
    {
     "data": {
      "text/plain": [
       "0.0       2099\n",
       "40.0       291\n",
       "124.0      203\n",
       "10.0       191\n",
       "41.0       159\n",
       "          ... \n",
       "1048.0       1\n",
       "1045.0       1\n",
       "1043.0       1\n",
       "1039.0       1\n",
       "2076.0       1\n",
       "Name: brand, Length: 2077, dtype: int64"
      ]
     },
     "execution_count": 38,
     "metadata": {},
     "output_type": "execute_result"
    }
   ],
   "source": [
    "dataset.item_feat['brand'].value_counts()"
   ]
  },
  {
   "cell_type": "code",
   "execution_count": 37,
   "metadata": {},
   "outputs": [
    {
     "data": {
      "text/plain": [
       "7     2178\n",
       "6     2149\n",
       "4     2120\n",
       "5     1801\n",
       "8     1295\n",
       "9      876\n",
       "11     681\n",
       "10     610\n",
       "12     144\n",
       "14     109\n",
       "3       82\n",
       "2       29\n",
       "13      27\n",
       "0        1\n",
       "Name: categories, dtype: int64"
      ]
     },
     "execution_count": 37,
     "metadata": {},
     "output_type": "execute_result"
    }
   ],
   "source": [
    "# check the distribution of the number of categories per item\n",
    "dataset.item_feat['categories'].apply(lambda x:len(x)).value_counts()\n",
    "\n"
   ]
  },
  {
   "cell_type": "code",
   "execution_count": 39,
   "metadata": {},
   "outputs": [
    {
     "data": {
      "text/plain": [
       "1.0     10169\n",
       "2.0      1307\n",
       "0.0       287\n",
       "5.0        77\n",
       "3.0        71\n",
       "4.0        32\n",
       "13.0       30\n",
       "7.0        27\n",
       "8.0        18\n",
       "12.0       16\n",
       "17.0       15\n",
       "6.0        12\n",
       "10.0       11\n",
       "16.0       10\n",
       "15.0        8\n",
       "11.0        5\n",
       "9.0         3\n",
       "14.0        1\n",
       "18.0        1\n",
       "19.0        1\n",
       "20.0        1\n",
       "Name: sales_type, dtype: int64"
      ]
     },
     "execution_count": 39,
     "metadata": {},
     "output_type": "execute_result"
    }
   ],
   "source": [
    "dataset.item_feat['sales_type'].value_counts()"
   ]
  },
  {
   "cell_type": "code",
   "execution_count": 27,
   "metadata": {},
   "outputs": [
    {
     "data": {
      "text/plain": [
       "277296.568007    287\n",
       "2123.000000        3\n",
       "120451.000000      3\n",
       "14119.000000       2\n",
       "21570.000000       2\n",
       "                ... \n",
       "234978.000000      1\n",
       "983834.000000      1\n",
       "230650.000000      1\n",
       "195874.000000      1\n",
       "136798.000000      1\n",
       "Name: sales_rank, Length: 11708, dtype: int64"
      ]
     },
     "execution_count": 27,
     "metadata": {},
     "output_type": "execute_result"
    }
   ],
   "source": [
    "dataset.item_feat['sales_rank'].value_counts()"
   ]
  },
  {
   "cell_type": "code",
   "execution_count": 40,
   "metadata": {},
   "outputs": [
    {
     "data": {
      "text/plain": [
       "0.0        8\n",
       "11242.0    3\n",
       "5300.0     2\n",
       "10588.0    2\n",
       "820.0      2\n",
       "          ..\n",
       "4042.0     1\n",
       "4035.0     1\n",
       "4045.0     1\n",
       "4039.0     1\n",
       "12066.0    1\n",
       "Name: title, Length: 12067, dtype: int64"
      ]
     },
     "execution_count": 40,
     "metadata": {},
     "output_type": "execute_result"
    }
   ],
   "source": [
    "dataset.item_feat['title'].value_counts()"
   ]
  },
  {
   "attachments": {},
   "cell_type": "markdown",
   "metadata": {},
   "source": [
    "## read item data"
   ]
  },
  {
   "cell_type": "code",
   "execution_count": 22,
   "metadata": {},
   "outputs": [
    {
     "data": {
      "text/html": [
       "<div>\n",
       "<style scoped>\n",
       "    .dataframe tbody tr th:only-of-type {\n",
       "        vertical-align: middle;\n",
       "    }\n",
       "\n",
       "    .dataframe tbody tr th {\n",
       "        vertical-align: top;\n",
       "    }\n",
       "\n",
       "    .dataframe thead th {\n",
       "        text-align: right;\n",
       "    }\n",
       "</style>\n",
       "<table border=\"1\" class=\"dataframe\">\n",
       "  <thead>\n",
       "    <tr style=\"text-align: right;\">\n",
       "      <th></th>\n",
       "      <th>item_id:token</th>\n",
       "      <th>title:token</th>\n",
       "      <th>sales_type:token</th>\n",
       "      <th>sales_rank:float</th>\n",
       "      <th>categories:token_seq</th>\n",
       "      <th>price:float</th>\n",
       "      <th>brand:token</th>\n",
       "    </tr>\n",
       "  </thead>\n",
       "  <tbody>\n",
       "    <tr>\n",
       "      <th>0</th>\n",
       "      <td>0205616461</td>\n",
       "      <td>Bio-Active Anti-Aging Serum (Firming Ultra-Hyd...</td>\n",
       "      <td>Health &amp; Personal Care</td>\n",
       "      <td>461765.0</td>\n",
       "      <td>'Beauty', 'Skin Care', 'Face', 'Creams &amp; Moist...</td>\n",
       "      <td>NaN</td>\n",
       "      <td>NaN</td>\n",
       "    </tr>\n",
       "    <tr>\n",
       "      <th>1</th>\n",
       "      <td>0558925278</td>\n",
       "      <td>Eco Friendly Ecotools Quality Natural Bamboo C...</td>\n",
       "      <td>Beauty</td>\n",
       "      <td>402875.0</td>\n",
       "      <td>'Beauty', 'Tools &amp; Accessories', 'Makeup Brush...</td>\n",
       "      <td>NaN</td>\n",
       "      <td>NaN</td>\n",
       "    </tr>\n",
       "    <tr>\n",
       "      <th>2</th>\n",
       "      <td>0733001998</td>\n",
       "      <td>Mastiha Body Lotion</td>\n",
       "      <td>Beauty</td>\n",
       "      <td>540255.0</td>\n",
       "      <td>'Beauty', 'Skin Care', 'Body', 'Moisturizers',...</td>\n",
       "      <td>NaN</td>\n",
       "      <td>NaN</td>\n",
       "    </tr>\n",
       "    <tr>\n",
       "      <th>3</th>\n",
       "      <td>0737104473</td>\n",
       "      <td>Hello Kitty Lustre Lipstick (See sellers comme...</td>\n",
       "      <td>Beauty</td>\n",
       "      <td>931125.0</td>\n",
       "      <td>'Beauty', 'Makeup', 'Lips', 'Lipstick'</td>\n",
       "      <td>NaN</td>\n",
       "      <td>NaN</td>\n",
       "    </tr>\n",
       "    <tr>\n",
       "      <th>4</th>\n",
       "      <td>0762451459</td>\n",
       "      <td>Stephanie Johnson Mermaid Round Snap Mirror</td>\n",
       "      <td>NaN</td>\n",
       "      <td>NaN</td>\n",
       "      <td>'Beauty', 'Tools &amp; Accessories', 'Mirrors', 'M...</td>\n",
       "      <td>19.98</td>\n",
       "      <td>NaN</td>\n",
       "    </tr>\n",
       "  </tbody>\n",
       "</table>\n",
       "</div>"
      ],
      "text/plain": [
       "  item_id:token                                        title:token  \\\n",
       "0    0205616461  Bio-Active Anti-Aging Serum (Firming Ultra-Hyd...   \n",
       "1    0558925278  Eco Friendly Ecotools Quality Natural Bamboo C...   \n",
       "2    0733001998                                Mastiha Body Lotion   \n",
       "3    0737104473  Hello Kitty Lustre Lipstick (See sellers comme...   \n",
       "4    0762451459        Stephanie Johnson Mermaid Round Snap Mirror   \n",
       "\n",
       "         sales_type:token  sales_rank:float  \\\n",
       "0  Health & Personal Care          461765.0   \n",
       "1                  Beauty          402875.0   \n",
       "2                  Beauty          540255.0   \n",
       "3                  Beauty          931125.0   \n",
       "4                     NaN               NaN   \n",
       "\n",
       "                                categories:token_seq  price:float brand:token  \n",
       "0  'Beauty', 'Skin Care', 'Face', 'Creams & Moist...          NaN         NaN  \n",
       "1  'Beauty', 'Tools & Accessories', 'Makeup Brush...          NaN         NaN  \n",
       "2  'Beauty', 'Skin Care', 'Body', 'Moisturizers',...          NaN         NaN  \n",
       "3             'Beauty', 'Makeup', 'Lips', 'Lipstick'          NaN         NaN  \n",
       "4  'Beauty', 'Tools & Accessories', 'Mirrors', 'M...        19.98         NaN  "
      ]
     },
     "execution_count": 22,
     "metadata": {},
     "output_type": "execute_result"
    }
   ],
   "source": [
    "df=pd.read_csv(os.path.join(dataset_path,'Amazon_Beauty.item'),sep='\\t')\n",
    "df.head()"
   ]
  },
  {
   "cell_type": "code",
   "execution_count": 25,
   "metadata": {},
   "outputs": [
    {
     "data": {
      "text/plain": [
       "item_id:token           1.000000\n",
       "title:token             0.998287\n",
       "sales_type:token        0.979865\n",
       "sales_rank:float        0.979865\n",
       "categories:token_seq    1.000000\n",
       "price:float             0.732743\n",
       "brand:token             0.490112\n",
       "dtype: float64"
      ]
     },
     "execution_count": 25,
     "metadata": {},
     "output_type": "execute_result"
    }
   ],
   "source": [
    "# check how many non-Nan values are there in each column\n",
    "df.count()/len(df)\n"
   ]
  },
  {
   "attachments": {},
   "cell_type": "markdown",
   "metadata": {},
   "source": [
    "it looks liket the only feature that exist for each item is categories (although there might be an empty string, right?)"
   ]
  },
  {
   "cell_type": "code",
   "execution_count": null,
   "metadata": {},
   "outputs": [],
   "source": [
    "# check how many Nans in brand:token\n",
    "df['brand:token'].isna().sum()"
   ]
  },
  {
   "attachments": {},
   "cell_type": "markdown",
   "metadata": {},
   "source": [
    "# Amazon Toys"
   ]
  },
  {
   "cell_type": "code",
   "execution_count": null,
   "metadata": {},
   "outputs": [],
   "source": [
    "dataset_path=os.path.join(dataset_root,'Amazon_Toys_and_Games')\n",
    "os.listdir(dataset_path)"
   ]
  },
  {
   "attachments": {},
   "cell_type": "markdown",
   "metadata": {},
   "source": [
    "## Reading the dataset using recbole "
   ]
  },
  {
   "cell_type": "code",
   "execution_count": null,
   "metadata": {},
   "outputs": [],
   "source": [
    "# reading the dataset through the recbole framework\n",
    "args=Arguments(dataset=\"Amazon_Toys_and_Games\",config_files=os.path.join(difsr_root,'configs/Amazon_Toys_and_Games.yaml'))\n",
    "config_file_list = args.config_files.strip().split(' ') if args.config_files else None\n",
    "config = Config(model=args.model, dataset=f'{args.dataset}', config_file_list=config_file_list)\n",
    "config.final_config_dict['data_path'] = os.path.join(difsr_root,config.final_config_dict['data_path'])\n",
    "config.final_config_dict"
   ]
  },
  {
   "cell_type": "code",
   "execution_count": null,
   "metadata": {},
   "outputs": [],
   "source": [
    "dataset = create_dataset(config)\n",
    "dataset"
   ]
  },
  {
   "cell_type": "code",
   "execution_count": null,
   "metadata": {},
   "outputs": [],
   "source": [
    "dataset.item_feat.head()"
   ]
  }
 ],
 "metadata": {
  "kernelspec": {
   "display_name": "difsr",
   "language": "python",
   "name": "python3"
  },
  "language_info": {
   "codemirror_mode": {
    "name": "ipython",
    "version": 3
   },
   "file_extension": ".py",
   "mimetype": "text/x-python",
   "name": "python",
   "nbconvert_exporter": "python",
   "pygments_lexer": "ipython3",
   "version": "3.9.16"
  },
  "orig_nbformat": 4
 },
 "nbformat": 4,
 "nbformat_minor": 2
}
